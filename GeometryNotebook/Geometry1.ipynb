{
 "cells": [
  {
   "cell_type": "code",
   "execution_count": 5,
   "metadata": {},
   "outputs": [
    {
     "data": {
      "text/html": [
       "<script>\n",
       "code_show=true; \n",
       "function code_toggle() {\n",
       " if (code_show){\n",
       " $('div.input').hide();\n",
       " } else {\n",
       " $('div.input').show();\n",
       " }\n",
       " code_show = !code_show\n",
       "} \n",
       "$( document ).ready(code_toggle);\n",
       "</script>\n",
       "The raw code for this IPython notebook is by default hidden for easier reading.\n",
       "To toggle on/off the raw code, click <a href=\"javascript:code_toggle()\">here</a>."
      ],
      "text/plain": [
       "<IPython.core.display.HTML object>"
      ]
     },
     "execution_count": 5,
     "metadata": {},
     "output_type": "execute_result"
    }
   ],
   "source": [
    "from IPython.display import HTML\n",
    "HTML('''<script>\n",
    "code_show=true; \n",
    "function code_toggle() {\n",
    " if (code_show){\n",
    " $('div.input').hide();\n",
    " } else {\n",
    " $('div.input').show();\n",
    " }\n",
    " code_show = !code_show\n",
    "} \n",
    "$( document ).ready(code_toggle);\n",
    "</script>\n",
    "The raw code for this IPython notebook is by default hidden for easier reading.\n",
    "To toggle on/off the raw code, click <a href=\"javascript:code_toggle()\">here</a>.''')"
   ]
  },
  {
   "cell_type": "code",
   "execution_count": 4,
   "metadata": {
    "scrolled": true
   },
   "outputs": [
    {
     "data": {
      "text/html": [
       "<style>\n",
       ".output_wrapper button.btn.btn-default,\n",
       ".output_wrapper .ui-dialog-titlebar {\n",
       "  display: none;\n",
       "}\n",
       "</style>"
      ],
      "text/plain": [
       "<IPython.core.display.HTML object>"
      ]
     },
     "metadata": {},
     "output_type": "display_data"
    }
   ],
   "source": [
    "%%html\n",
    "<style>\n",
    ".output_wrapper button.btn.btn-default,\n",
    ".output_wrapper .ui-dialog-titlebar {\n",
    "  display: none;\n",
    "}\n",
    "</style>"
   ]
  },
  {
   "cell_type": "markdown",
   "metadata": {},
   "source": [
    "![alt text](https://github.com/callysto/callysto-sample-notebooks/blob/master/notebooks/images/Callysto_Notebook-Banner_Top_06.06.18.jpg?raw=true)  \n"
   ]
  },
  {
   "cell_type": "code",
   "execution_count": 1,
   "metadata": {},
   "outputs": [
    {
     "data": {
      "text/html": [
       "<h1 align='center'>Geometry Basics 1</h1>\n",
       "\n",
       "<h4 align='center'>Grade 8 $\\mid$ Mathematics $\\mid$ Wild Guevara</h4>"
      ],
      "text/plain": [
       "<IPython.core.display.HTML object>"
      ]
     },
     "metadata": {},
     "output_type": "display_data"
    }
   ],
   "source": [
    "%%html\n",
    "<h1 align='center'>Geometry Basics 1</h1>\n",
    "\n",
    "<h4 align='center'>Grade 8 $\\mid$ Mathematics $\\mid$ Wild Guevara</h4>"
   ]
  },
  {
   "cell_type": "code",
   "execution_count": 156,
   "metadata": {},
   "outputs": [],
   "source": [
    "import matplotlib.pyplot as plt\n",
    "import ipywidgets\n",
    "from ipywidgets import widgets, interact, interact_manual, Button, Layout\n",
    "from IPython.display import Javascript, display"
   ]
  },
  {
   "cell_type": "markdown",
   "metadata": {},
   "source": [
    "Geometry is one of the most valuable topics of everyday life. It has relevance in driving, cooking, drawing, organizing, decorating, building, and a variety of other activities. It is also incredibly instinctive to human beings. Even babies use geometrical reasoning when deciding that circular pieces fit into circular holes, or that square pieces fit in square holes. So, one should think of this notebook as describing the math behind these natural activities.\n",
    "\n",
    "In this notebook, you will learn how to define and explain length, width, height, depth, thickness, perimeter and circumference. This notebook will also help explain the metric units such as millimeters, centimeters, meters, and kilometers. These topics will be taught through visual aids and interactive models."
   ]
  },
  {
   "cell_type": "markdown",
   "metadata": {},
   "source": [
    "## Background On Shapes\n",
    "To begin our descriptions of geometric objects, we will first have to decide the way in which the shapes apear:\n",
    "\n",
    "## Two Dimensions\n",
    "In this case, objects appear flat. The following shapes illustrate this idea:"
   ]
  },
  {
   "cell_type": "markdown",
   "metadata": {},
   "source": [
    "<img src=\"files/2dObjectsEmpty.png\">"
   ]
  },
  {
   "cell_type": "markdown",
   "metadata": {},
   "source": [
    "While these objects may seem very simple, they are a good way to introduce *length*, *width*, *perimeter*, and *circumference*. "
   ]
  },
  {
   "cell_type": "markdown",
   "metadata": {},
   "source": [
    "## Length and Width\n",
    "The **length** of some **rectangle** is the *longest* side, (Or *edge*), of it. However, the **width**, is the *shortest* side of a **rectangle**. A useful way to remember this is to think of **L**ength as **L**ong.\n",
    "\n",
    "We can label the rectangular shape with its length and width:"
   ]
  },
  {
   "cell_type": "markdown",
   "metadata": {},
   "source": [
    "<img src=\"files/2dObjectsRectangles.png\">"
   ]
  },
  {
   "cell_type": "markdown",
   "metadata": {},
   "source": [
    "Now, you may be wondering, \"How do we fill out the **length** and **witdth** of a **square**, where all sides are equal?\" Well, because all sides are equal, this means that length and width are *interchangeable* so we can have either of the following:"
   ]
  },
  {
   "cell_type": "markdown",
   "metadata": {},
   "source": [
    "<img src=\"files/2dObjectsAllSquares.png\">"
   ]
  },
  {
   "cell_type": "markdown",
   "metadata": {},
   "source": [
    "Thus, we've found the **width** and **length** of all the rectangular shapes:"
   ]
  },
  {
   "cell_type": "markdown",
   "metadata": {},
   "source": [
    "<img src=\"files/2dObjectsSquares.png\">"
   ]
  },
  {
   "cell_type": "markdown",
   "metadata": {},
   "source": [
    "### Practice Question 1\n",
    "\n",
    "Given the following **rectangle**:"
   ]
  },
  {
   "cell_type": "markdown",
   "metadata": {},
   "source": [
    "<img src=\"files/PracticeQuestion1.png\">"
   ]
  },
  {
   "cell_type": "code",
   "execution_count": 157,
   "metadata": {},
   "outputs": [
    {
     "name": "stdout",
     "output_type": "stream",
     "text": [
      "Which edge is the width?\n"
     ]
    },
    {
     "data": {
      "application/vnd.jupyter.widget-view+json": {
       "model_id": "dec32e8d79b544cdb054ccdfefb00c95",
       "version_major": 2,
       "version_minor": 0
      },
      "text/html": [
       "<p>Failed to display Jupyter Widget of type <code>interactive</code>.</p>\n",
       "<p>\n",
       "  If you're reading this message in the Jupyter Notebook or JupyterLab Notebook, it may mean\n",
       "  that the widgets JavaScript is still loading. If this message persists, it\n",
       "  likely means that the widgets JavaScript library is either not installed or\n",
       "  not enabled. See the <a href=\"https://ipywidgets.readthedocs.io/en/stable/user_install.html\">Jupyter\n",
       "  Widgets Documentation</a> for setup instructions.\n",
       "</p>\n",
       "<p>\n",
       "  If you're reading this message in another frontend (for example, a static\n",
       "  rendering on GitHub or <a href=\"https://nbviewer.jupyter.org/\">NBViewer</a>),\n",
       "  it may mean that your frontend doesn't currently support widgets.\n",
       "</p>\n"
      ],
      "text/plain": [
       "interactive(children=(RadioButtons(description='Answer: ', options=('Select width', 'A', 'B'), value='Select width'), Output()), _dom_classes=('widget-interact',))"
      ]
     },
     "metadata": {},
     "output_type": "display_data"
    }
   ],
   "source": [
    "from ipywidgets import interact_manual,widgets\n",
    "\n",
    "print(\"Which edge is the width?\")\n",
    "        \n",
    "@interact(answer =widgets.RadioButtons(\n",
    "                    options=[\"Select width\",\"A\",\\\n",
    "                            \"B\"],\n",
    "                    value='Select width',\n",
    "                    description=\"Answer: \",\n",
    "                    disabled=False\n",
    "))\n",
    "\n",
    "def reflective_angle_question(answer):\n",
    "    if answer==\"Select width\":\n",
    "        print(\"Click on the correct answer.\\n\")\n",
    "    \n",
    "    elif answer==\"A\":\n",
    "        print(\"Correct!\\\n",
    "        \\nThe width is the shortest side.\")\n",
    "        \n",
    "    elif answer ==\"B\":\n",
    "        print(\"Incorrect.\\\n",
    "        \\nRemember, the width depends on how long a side is.\")"
   ]
  },
  {
   "cell_type": "markdown",
   "metadata": {},
   "source": [
    "## Perimeter\n",
    "\n",
    "With this information we can now find the perimeter of a **rectangle** or **square**. The perimeter is simply the total length of all sides of a **rectangular shape**.\n",
    "\n",
    "To find the **perimeter** of a **rectangle**, one must *add all the sides* together. The formula for this looks like:"
   ]
  },
  {
   "cell_type": "code",
   "execution_count": 15,
   "metadata": {},
   "outputs": [
    {
     "data": {
      "text/html": [
       "<h3 align='center'>$\\ (Length) + (Length) + (Width) + (Width) = (Perimeter) $</h3>"
      ],
      "text/plain": [
       "<IPython.core.display.HTML object>"
      ]
     },
     "metadata": {},
     "output_type": "display_data"
    }
   ],
   "source": [
    "%%html\n",
    "<h3 align='center'>$\\ (Length) + (Length) + (Width) + (Width) = (Perimeter) $</h3>"
   ]
  },
  {
   "cell_type": "markdown",
   "metadata": {},
   "source": [
    "However, since we know that:"
   ]
  },
  {
   "cell_type": "code",
   "execution_count": 13,
   "metadata": {},
   "outputs": [
    {
     "data": {
      "text/html": [
       "<h3 align='center'>$\\ (Length) + (Length) = 2*(Length) $</h3>"
      ],
      "text/plain": [
       "<IPython.core.display.HTML object>"
      ]
     },
     "metadata": {},
     "output_type": "display_data"
    }
   ],
   "source": [
    "%%html\n",
    "<h3 align='center'>$\\ (Length) + (Length) = 2*(Length) $</h3>"
   ]
  },
  {
   "cell_type": "markdown",
   "metadata": {},
   "source": [
    "And that:"
   ]
  },
  {
   "cell_type": "code",
   "execution_count": 5,
   "metadata": {},
   "outputs": [
    {
     "data": {
      "text/html": [
       "<h3 align='center'>$\\ (Width) + (Width) = 2*(Width) $</h3>"
      ],
      "text/plain": [
       "<IPython.core.display.HTML object>"
      ]
     },
     "metadata": {},
     "output_type": "display_data"
    }
   ],
   "source": [
    "%%html\n",
    "<h3 align='center'>$\\ (Width) + (Width) = 2*(Width) $</h3>"
   ]
  },
  {
   "cell_type": "markdown",
   "metadata": {},
   "source": [
    "We can simplify the formula to look like:"
   ]
  },
  {
   "cell_type": "code",
   "execution_count": 8,
   "metadata": {},
   "outputs": [
    {
     "data": {
      "text/html": [
       "<h3 align='center'>$\\ 2* (Width) + 2*(Length) = (Perimeter) $</h3>"
      ],
      "text/plain": [
       "<IPython.core.display.HTML object>"
      ]
     },
     "metadata": {},
     "output_type": "display_data"
    }
   ],
   "source": [
    "%%html\n",
    "<h3 align='center'>$\\ 2* (Width) + 2*(Length) = (Perimeter) $</h3>"
   ]
  },
  {
   "cell_type": "markdown",
   "metadata": {},
   "source": [
    "Now, we have a simplified formula for finding the perimeter of any **rectangle**. \n",
    "\n",
    "Finding the **perimeter** of any **square** is even simpler since we know that all sides have equal length. Therefore, the formula is even simpler. You can either do:"
   ]
  },
  {
   "cell_type": "code",
   "execution_count": 12,
   "metadata": {},
   "outputs": [
    {
     "data": {
      "text/html": [
       "<h3 align='center'>$\\ 4 * (Width) = (Perimeter) $</h3>"
      ],
      "text/plain": [
       "<IPython.core.display.HTML object>"
      ]
     },
     "metadata": {},
     "output_type": "display_data"
    }
   ],
   "source": [
    "%%html\n",
    "<h3 align='center'>$\\ 4 * (Width) = (Perimeter) $</h3>"
   ]
  },
  {
   "cell_type": "markdown",
   "metadata": {},
   "source": [
    "Or:"
   ]
  },
  {
   "cell_type": "code",
   "execution_count": 11,
   "metadata": {},
   "outputs": [
    {
     "data": {
      "text/html": [
       "<h3 align='center'>$\\ 4 * (Length) = (Perimeter) $</h3>"
      ],
      "text/plain": [
       "<IPython.core.display.HTML object>"
      ]
     },
     "metadata": {},
     "output_type": "display_data"
    }
   ],
   "source": [
    "%%html\n",
    "<h3 align='center'>$\\ 4 * (Length) = (Perimeter) $</h3>"
   ]
  },
  {
   "cell_type": "markdown",
   "metadata": {},
   "source": [
    "### Practice Question 2\n",
    "\n",
    "Given the following **rectangle**:"
   ]
  },
  {
   "cell_type": "markdown",
   "metadata": {},
   "source": [
    "<img src=\"files/PracticeQuestion2.png\">"
   ]
  },
  {
   "cell_type": "code",
   "execution_count": 158,
   "metadata": {},
   "outputs": [
    {
     "name": "stdout",
     "output_type": "stream",
     "text": [
      "What is the perimeter?\n"
     ]
    },
    {
     "data": {
      "application/vnd.jupyter.widget-view+json": {
       "model_id": "4463dc036f914622a8870bfca0d2bdc8",
       "version_major": 2,
       "version_minor": 0
      },
      "text/html": [
       "<p>Failed to display Jupyter Widget of type <code>interactive</code>.</p>\n",
       "<p>\n",
       "  If you're reading this message in the Jupyter Notebook or JupyterLab Notebook, it may mean\n",
       "  that the widgets JavaScript is still loading. If this message persists, it\n",
       "  likely means that the widgets JavaScript library is either not installed or\n",
       "  not enabled. See the <a href=\"https://ipywidgets.readthedocs.io/en/stable/user_install.html\">Jupyter\n",
       "  Widgets Documentation</a> for setup instructions.\n",
       "</p>\n",
       "<p>\n",
       "  If you're reading this message in another frontend (for example, a static\n",
       "  rendering on GitHub or <a href=\"https://nbviewer.jupyter.org/\">NBViewer</a>),\n",
       "  it may mean that your frontend doesn't currently support widgets.\n",
       "</p>\n"
      ],
      "text/plain": [
       "interactive(children=(IntText(value=0, description='Answer: '), Output()), _dom_classes=('widget-interact',))"
      ]
     },
     "metadata": {},
     "output_type": "display_data"
    }
   ],
   "source": [
    "from ipywidgets import interact_manual,widgets\n",
    "\n",
    "print(\"What is the perimeter?\")\n",
    "       \n",
    "@interact(answer =widgets.IntText(\n",
    "    value=0,\n",
    "    description='Answer: ',\n",
    "    disabled=False\n",
    "))\n",
    "\n",
    "def reflective_angle_question(answer):\n",
    "    if answer == 12:\n",
    "        print(\"Correct!\\\n",
    "        \\nThe perimeter is 2*(2) + 2*(4), which equals 12.\")\n",
    "    \n",
    "    elif answer == 0:\n",
    "        print(\"Type the perimeter of the rectangle.\")\n",
    "        \n",
    "    else:\n",
    "        print(\"Incorrect.\\\n",
    "        \\nRemember, the formula for calulating the perimeter is 2*(width) + 2*(length).\")"
   ]
  },
  {
   "cell_type": "markdown",
   "metadata": {},
   "source": [
    "## Diameter And Radius\n",
    "\n",
    "So far we've been focusing on rectangular objects, but now we must focus on circular shapes. We should know some useful facts about circles already, like how to find the **diameter** and **radius**, but we'll do a quick refresher on the subject.\n",
    "\n",
    "To find either of these values, we begin by locating the exact middle of the circle."
   ]
  },
  {
   "cell_type": "markdown",
   "metadata": {},
   "source": [
    "<img src=\"files/CircleMiddle.png\">"
   ]
  },
  {
   "cell_type": "markdown",
   "metadata": {},
   "source": [
    "Next, if we drew a straight line from the middle to an edge of the circle, we'd get the **radius**:"
   ]
  },
  {
   "cell_type": "markdown",
   "metadata": {},
   "source": [
    "<img src=\"files/CircleRadius.png\">"
   ]
  },
  {
   "cell_type": "markdown",
   "metadata": {},
   "source": [
    "Lastly, if we drew a straight line starting from an edge of the circle to the middle, and then to another edge, we'd get the **diameter**:"
   ]
  },
  {
   "cell_type": "markdown",
   "metadata": {},
   "source": [
    "<img src=\"files/CircleDiameter.png\">"
   ]
  },
  {
   "cell_type": "markdown",
   "metadata": {},
   "source": [
    "It is also important to note that the **radius** of any circle is *half* the size of the **diameter**:"
   ]
  },
  {
   "cell_type": "code",
   "execution_count": 94,
   "metadata": {},
   "outputs": [
    {
     "data": {
      "text/html": [
       "<h3 align='center'>$\\ \\frac{Diameter}{2} = (Radius) $</h3>"
      ],
      "text/plain": [
       "<IPython.core.display.HTML object>"
      ]
     },
     "metadata": {},
     "output_type": "display_data"
    }
   ],
   "source": [
    "%%html\n",
    "<h3 align='center'>$\\ \\frac{Diameter}{2} = (Radius) $</h3>"
   ]
  },
  {
   "cell_type": "markdown",
   "metadata": {},
   "source": [
    "Another way to think about the relationship between **diameter** and **radius** is that the **diameter** is *twice* the radius:"
   ]
  },
  {
   "cell_type": "code",
   "execution_count": 96,
   "metadata": {},
   "outputs": [
    {
     "data": {
      "text/html": [
       "<h3 align='center'>$\\ 2 * (Radius) = (Diameter) $</h3>"
      ],
      "text/plain": [
       "<IPython.core.display.HTML object>"
      ]
     },
     "metadata": {},
     "output_type": "display_data"
    }
   ],
   "source": [
    "%%html\n",
    "<h3 align='center'>$\\ 2 * (Radius) = (Diameter) $</h3>"
   ]
  },
  {
   "cell_type": "markdown",
   "metadata": {},
   "source": [
    "## Circumference\n",
    "\n",
    "Now that we've found the radius and the diameter, we can begin to look at how to find the **circumference** of the circle. \n",
    "\n",
    "First, we will define what the circumference actually is. The **circumference** is the total length around the circle:"
   ]
  },
  {
   "cell_type": "markdown",
   "metadata": {},
   "source": [
    "<img src=\"files/CircleCircumference.png\">"
   ]
  },
  {
   "cell_type": "markdown",
   "metadata": {},
   "source": [
    "To find the **circumference** of any circle, we first have to find either the **radius** or the **diameter**. Then, we can use either of the following formulas to calculate the circumference.\n",
    "\n",
    "If we only have the **radius**, we can use the following formula to calculate the **circumference**:"
   ]
  },
  {
   "cell_type": "code",
   "execution_count": 34,
   "metadata": {},
   "outputs": [
    {
     "data": {
      "text/html": [
       "<h3 align='center'>$\\ 2*\\pi*(Radius) = (Circumference) $</h3>"
      ],
      "text/plain": [
       "<IPython.core.display.HTML object>"
      ]
     },
     "metadata": {},
     "output_type": "display_data"
    }
   ],
   "source": [
    "%%html\n",
    "<h3 align='center'>$\\ 2*\\pi*(Radius) = (Circumference) $</h3>"
   ]
  },
  {
   "cell_type": "markdown",
   "metadata": {},
   "source": [
    "Otherwise, if we don't have radius and only have the **diameter**, we can use the following formula to calculate the **circumference**:"
   ]
  },
  {
   "cell_type": "code",
   "execution_count": 28,
   "metadata": {},
   "outputs": [
    {
     "data": {
      "text/html": [
       "<h3 align='center'>$\\ \\pi*(Diameter) = (Circumference) $</h3>"
      ],
      "text/plain": [
       "<IPython.core.display.HTML object>"
      ]
     },
     "metadata": {},
     "output_type": "display_data"
    }
   ],
   "source": [
    "%%html\n",
    "<h3 align='center'>$\\ \\pi*(Diameter) = (Circumference) $</h3>"
   ]
  },
  {
   "cell_type": "markdown",
   "metadata": {},
   "source": [
    "Now, we have a formula we can use to calculate the **circumference** of some circle."
   ]
  },
  {
   "cell_type": "markdown",
   "metadata": {},
   "source": [
    "### Practice Question 3\n",
    "\n",
    "Given the following **circle**:"
   ]
  },
  {
   "cell_type": "markdown",
   "metadata": {},
   "source": [
    "<img src=\"files/PracticeQuestion3.png\">"
   ]
  },
  {
   "cell_type": "code",
   "execution_count": 159,
   "metadata": {},
   "outputs": [
    {
     "name": "stdout",
     "output_type": "stream",
     "text": [
      "What is the circumference? (Round to the nearest value)\n"
     ]
    },
    {
     "data": {
      "application/vnd.jupyter.widget-view+json": {
       "model_id": "c23f925cc6c046e6ba4f7e2d5dddb1b6",
       "version_major": 2,
       "version_minor": 0
      },
      "text/html": [
       "<p>Failed to display Jupyter Widget of type <code>interactive</code>.</p>\n",
       "<p>\n",
       "  If you're reading this message in the Jupyter Notebook or JupyterLab Notebook, it may mean\n",
       "  that the widgets JavaScript is still loading. If this message persists, it\n",
       "  likely means that the widgets JavaScript library is either not installed or\n",
       "  not enabled. See the <a href=\"https://ipywidgets.readthedocs.io/en/stable/user_install.html\">Jupyter\n",
       "  Widgets Documentation</a> for setup instructions.\n",
       "</p>\n",
       "<p>\n",
       "  If you're reading this message in another frontend (for example, a static\n",
       "  rendering on GitHub or <a href=\"https://nbviewer.jupyter.org/\">NBViewer</a>),\n",
       "  it may mean that your frontend doesn't currently support widgets.\n",
       "</p>\n"
      ],
      "text/plain": [
       "interactive(children=(IntText(value=0, description='Answer: '), Output()), _dom_classes=('widget-interact',))"
      ]
     },
     "metadata": {},
     "output_type": "display_data"
    }
   ],
   "source": [
    "from ipywidgets import interact_manual,widgets\n",
    "\n",
    "print(\"What is the circumference? (Round to the nearest value)\")\n",
    "       \n",
    "@interact(answer =widgets.IntText(\n",
    "    value=0,\n",
    "    description='Answer: ',\n",
    "    disabled=False\n",
    "))\n",
    "\n",
    "def reflective_angle_question(answer):\n",
    "    if answer == 44:\n",
    "        print(\"Correct!\\\n",
    "        \\nThe circumference is 2 * pi * (7). This equals 43.982297... which is rounded to 44.\")\n",
    "    \n",
    "    elif answer == 0:\n",
    "        print(\"Type the circumference of the circle.\")\n",
    "        \n",
    "    else:\n",
    "        print(\"Incorrect.\\\n",
    "        \\nRemember, we are only given the radius here.\")"
   ]
  },
  {
   "cell_type": "markdown",
   "metadata": {},
   "source": [
    "## Three Dimensions\n",
    "\n",
    "In three dimensions objects appear to have depth. Suppose you are looking at the following rectangle from the black circle:"
   ]
  },
  {
   "cell_type": "markdown",
   "metadata": {},
   "source": [
    "<img src=\"files/3dObjectsRectangle.png\">"
   ]
  },
  {
   "cell_type": "markdown",
   "metadata": {},
   "source": [
    "One can see that a 3 dimensional rectangle has many more unique edges than a 2 dimensional one. To account for these changes humans came up with new terms to help describe these shapes. "
   ]
  },
  {
   "cell_type": "markdown",
   "metadata": {},
   "source": [
    "## Height\n",
    "\n",
    "The **height** of a rectangle helps describe how **tall** some object is. This is the edge that runs vertically from the top of the shape to the bottom. A useful way to remember this is to think heigh**t** is for **t**all."
   ]
  },
  {
   "cell_type": "markdown",
   "metadata": {},
   "source": [
    "<img src=\"files/3dObjectsRectangleHeight.png\">"
   ]
  },
  {
   "cell_type": "markdown",
   "metadata": {},
   "source": [
    "We can also find the height of a 2 dimensional shape:"
   ]
  },
  {
   "cell_type": "markdown",
   "metadata": {},
   "source": [
    "<img src=\"files/2dObjectsRectanglesHeight.png\">"
   ]
  },
  {
   "cell_type": "markdown",
   "metadata": {},
   "source": [
    "## Depth\n",
    "\n",
    "The **depth** of a rectangle is how **deep** an object goes in. This is the edge that goes away from you. A useful way to remember this is to to think **d**epth is for **d**eep. "
   ]
  },
  {
   "cell_type": "markdown",
   "metadata": {},
   "source": [
    "<img src=\"files/3dObjectsRectangleDepth.png\">"
   ]
  },
  {
   "cell_type": "markdown",
   "metadata": {},
   "source": [
    "## Width\n",
    "\n",
    "The **width** of a 3 dimensional rectangle is the edge that's facing you. It's usually the one directly at the bottom of where you're facing."
   ]
  },
  {
   "cell_type": "markdown",
   "metadata": {},
   "source": [
    "<img src=\"files/3dObjectsRectangleWidth.png\">"
   ]
  },
  {
   "cell_type": "markdown",
   "metadata": {},
   "source": [
    "## Thickness\n",
    "\n",
    "The **thickness** of a 3 dimensional shape is how deep some face of the shape runs for. A good way to picture this is to think about the walls of your house. The distance between the inside wall and the outer wall is the thickness of your house. This idea can be applied to all types of boxes and shapes, even lines:"
   ]
  },
  {
   "cell_type": "markdown",
   "metadata": {},
   "source": [
    "<img src=\"files/LineThickness.png\">"
   ]
  },
  {
   "cell_type": "markdown",
   "metadata": {},
   "source": [
    "## Square\n",
    "\n",
    "As you may have guessed, the process of deciding **height**, **depth**, **thickness**, and **width** is the same for a square:"
   ]
  },
  {
   "cell_type": "markdown",
   "metadata": {},
   "source": [
    "<img src=\"files/3dObjectsSquare.png\">"
   ]
  },
  {
   "cell_type": "markdown",
   "metadata": {},
   "source": [
    "The only difference here is that the length of every edge is the same."
   ]
  },
  {
   "cell_type": "markdown",
   "metadata": {},
   "source": [
    "### Practice Question 4\n",
    "\n",
    "You view the following **rectangle** from the black circle:"
   ]
  },
  {
   "cell_type": "markdown",
   "metadata": {},
   "source": [
    "<img src=\"files/PracticeQuestion4.png\">"
   ]
  },
  {
   "cell_type": "code",
   "execution_count": 153,
   "metadata": {},
   "outputs": [
    {
     "name": "stdout",
     "output_type": "stream",
     "text": [
      "Which edge is the depth?\n"
     ]
    },
    {
     "data": {
      "application/vnd.jupyter.widget-view+json": {
       "model_id": "d3e14524d9a54fae8818ad46a12ee75b",
       "version_major": 2,
       "version_minor": 0
      },
      "text/html": [
       "<p>Failed to display Jupyter Widget of type <code>interactive</code>.</p>\n",
       "<p>\n",
       "  If you're reading this message in the Jupyter Notebook or JupyterLab Notebook, it may mean\n",
       "  that the widgets JavaScript is still loading. If this message persists, it\n",
       "  likely means that the widgets JavaScript library is either not installed or\n",
       "  not enabled. See the <a href=\"https://ipywidgets.readthedocs.io/en/stable/user_install.html\">Jupyter\n",
       "  Widgets Documentation</a> for setup instructions.\n",
       "</p>\n",
       "<p>\n",
       "  If you're reading this message in another frontend (for example, a static\n",
       "  rendering on GitHub or <a href=\"https://nbviewer.jupyter.org/\">NBViewer</a>),\n",
       "  it may mean that your frontend doesn't currently support widgets.\n",
       "</p>\n"
      ],
      "text/plain": [
       "interactive(children=(RadioButtons(description='Answer: ', options=('Select depth', 'A', 'B', 'C'), value='Select depth'), Output()), _dom_classes=('widget-interact',))"
      ]
     },
     "metadata": {},
     "output_type": "display_data"
    }
   ],
   "source": [
    "from ipywidgets import interact_manual,widgets\n",
    "\n",
    "print(\"Which edge is the depth?\")\n",
    "        \n",
    "@interact(answer =widgets.RadioButtons(\n",
    "                    options=[\"Select depth\",\"A\",\\\n",
    "                            \"B\", \"C\"],\n",
    "                    value='Select depth',\n",
    "                    description=\"Answer: \",\n",
    "                    disabled=False\n",
    "))\n",
    "\n",
    "def reflective_angle_question(answer):\n",
    "    if answer==\"Select depth\":\n",
    "        print(\"Click on the correct answer.\\n\")\n",
    "    \n",
    "    elif answer==\"A\":\n",
    "        print(\"Incorrect.\\\n",
    "        \\nRemember, the depth is how long it runs past you.\")\n",
    "        \n",
    "    elif answer ==\"B\":\n",
    "        print(\"Correct!\\\n",
    "        \\nThe depth is the side that runs .\")\n",
    "        \n",
    "    elif answer ==\"C\":\n",
    "        print(\"Incorrect.\\\n",
    "        \\nRemember, the depth is how long it runs past you.\")"
   ]
  },
  {
   "cell_type": "code",
   "execution_count": 152,
   "metadata": {},
   "outputs": [
    {
     "name": "stdout",
     "output_type": "stream",
     "text": [
      "Which edge is the height?\n"
     ]
    },
    {
     "data": {
      "application/vnd.jupyter.widget-view+json": {
       "model_id": "88040b803696455181ca421fde35eee3",
       "version_major": 2,
       "version_minor": 0
      },
      "text/html": [
       "<p>Failed to display Jupyter Widget of type <code>interactive</code>.</p>\n",
       "<p>\n",
       "  If you're reading this message in the Jupyter Notebook or JupyterLab Notebook, it may mean\n",
       "  that the widgets JavaScript is still loading. If this message persists, it\n",
       "  likely means that the widgets JavaScript library is either not installed or\n",
       "  not enabled. See the <a href=\"https://ipywidgets.readthedocs.io/en/stable/user_install.html\">Jupyter\n",
       "  Widgets Documentation</a> for setup instructions.\n",
       "</p>\n",
       "<p>\n",
       "  If you're reading this message in another frontend (for example, a static\n",
       "  rendering on GitHub or <a href=\"https://nbviewer.jupyter.org/\">NBViewer</a>),\n",
       "  it may mean that your frontend doesn't currently support widgets.\n",
       "</p>\n"
      ],
      "text/plain": [
       "interactive(children=(RadioButtons(description='Answer: ', options=('Select height', 'A', 'B', 'C'), value='Select height'), Output()), _dom_classes=('widget-interact',))"
      ]
     },
     "metadata": {},
     "output_type": "display_data"
    }
   ],
   "source": [
    "from ipywidgets import interact_manual,widgets\n",
    "\n",
    "print(\"Which edge is the height?\")\n",
    "        \n",
    "@interact(answer =widgets.RadioButtons(\n",
    "                    options=[\"Select height\",\"A\",\\\n",
    "                            \"B\", \"C\"],\n",
    "                    value='Select height',\n",
    "                    description=\"Answer: \",\n",
    "                    disabled=False\n",
    "))\n",
    "\n",
    "def reflective_angle_question(answer):\n",
    "    if answer==\"Select height\":\n",
    "        print(\"Click on the correct answer.\\n\")\n",
    "    \n",
    "    elif answer==\"A\":\n",
    "        print(\"Incorrect.\\\n",
    "        \\nRemember, the height runs vertically.\")\n",
    "        \n",
    "    elif answer ==\"B\":\n",
    "        print(\"Incorrect.\\\n",
    "        \\nRemember, the height runs vertically.\")\n",
    "        \n",
    "    elif answer ==\"C\":\n",
    "        print(\"Correct!\\\n",
    "        \\nThe height is the side that runs from top to bottom.\")"
   ]
  },
  {
   "cell_type": "code",
   "execution_count": 155,
   "metadata": {},
   "outputs": [
    {
     "name": "stdout",
     "output_type": "stream",
     "text": [
      "Which edge is the width?\n"
     ]
    },
    {
     "data": {
      "application/vnd.jupyter.widget-view+json": {
       "model_id": "63c8a960baae45fb8afbd2726cd2a990",
       "version_major": 2,
       "version_minor": 0
      },
      "text/html": [
       "<p>Failed to display Jupyter Widget of type <code>interactive</code>.</p>\n",
       "<p>\n",
       "  If you're reading this message in the Jupyter Notebook or JupyterLab Notebook, it may mean\n",
       "  that the widgets JavaScript is still loading. If this message persists, it\n",
       "  likely means that the widgets JavaScript library is either not installed or\n",
       "  not enabled. See the <a href=\"https://ipywidgets.readthedocs.io/en/stable/user_install.html\">Jupyter\n",
       "  Widgets Documentation</a> for setup instructions.\n",
       "</p>\n",
       "<p>\n",
       "  If you're reading this message in another frontend (for example, a static\n",
       "  rendering on GitHub or <a href=\"https://nbviewer.jupyter.org/\">NBViewer</a>),\n",
       "  it may mean that your frontend doesn't currently support widgets.\n",
       "</p>\n"
      ],
      "text/plain": [
       "interactive(children=(RadioButtons(description='Answer: ', options=('Select width', 'A', 'B', 'C'), value='Select width'), Output()), _dom_classes=('widget-interact',))"
      ]
     },
     "metadata": {},
     "output_type": "display_data"
    }
   ],
   "source": [
    "from ipywidgets import interact_manual,widgets\n",
    "\n",
    "print(\"Which edge is the width?\")\n",
    "        \n",
    "@interact(answer =widgets.RadioButtons(\n",
    "                    options=[\"Select width\",\"A\",\\\n",
    "                            \"B\", \"C\"],\n",
    "                    value='Select width',\n",
    "                    description=\"Answer: \",\n",
    "                    disabled=False\n",
    "))\n",
    "\n",
    "def reflective_angle_question(answer):\n",
    "    if answer==\"Select width\":\n",
    "        print(\"Click on the correct answer.\\n\")\n",
    "    \n",
    "    elif answer==\"A\":\n",
    "        print(\"Correct!\\\n",
    "        \\nThe width is the side that runs closest to you.\")\n",
    "        \n",
    "    elif answer ==\"B\":\n",
    "        print(\"Incorrect.\\\n",
    "        \\nRemember, the width runs closest to the viewer.\")\n",
    "        \n",
    "    elif answer ==\"C\":\n",
    "        print(\"Incorrect.\\\n",
    "        \\nRemember, the width runs closest to the viewer.\")"
   ]
  },
  {
   "cell_type": "markdown",
   "metadata": {},
   "source": [
    "## Measurements\n",
    "\n",
    "The last topic we will introduce in this section is the topic of **measurements**.\n",
    "\n",
    "This topic is incredibly important to every day life as it simplifies a lot of human activities. Think about the length of one of your nails. That length can't be treated the same way as the length it takes to go to the Moon from Earth. In other, 'mathier', words, we can't calculate long distances using the same methods we calculate small ones. Otherwise we'd get huge numbers for the long stuff, or tiny ones for the small stuff.\n",
    "\n",
    "So, humans came up with a way to solve this problem, and they created the **metric units**. These metric units help to calculate lengths. There are 7 of these units to focus on: **Kilometers**, **hectometers**, **decameters**, **meters**, **decimeters**, **centimeters**, and **millimeters**.\n",
    "\n",
    "While this may seem like a lot of units to memorize, they'll hopefully become very intuitive by the end of this lesson.\n",
    "\n",
    "The following is a diagram of how these units all interact together. It shows what **1 meter** would look like in each of the units. Make sure to take your time studying it."
   ]
  },
  {
   "cell_type": "markdown",
   "metadata": {},
   "source": [
    "<img src=\"files/LadderMethod.png\">"
   ]
  },
  {
   "cell_type": "markdown",
   "metadata": {},
   "source": [
    "As you may be able to tell from the diagram, these units interact with each other in a special way. This concept is explained in the following two ways:\n",
    "\n",
    "**GOING UP each step is 10 times BIGGER than the last step:** This means that each time you go up a step, your measurement becomes longer. For example, 10 meters, (*m*), is equal to 1 decameter, (*dam*). So, each time you go up a step, you must *divide by 10.* \n",
    "\n",
    "**GOING DOWN each step is 10 times SMALLER than the last step:** This means that each time you go down a step, your measurement becomes smaller. For example, 1 meter, (*m*), is equal to 10 decimeters, (*dm*). So, each time you go down a step, you must *multiply by 10.* \n",
    "\n",
    "Therefore, try to remember: *Going down is multiply, Going up is divide.*"
   ]
  },
  {
   "cell_type": "markdown",
   "metadata": {},
   "source": [
    "### An Useful Way To Memorize\n",
    "\n",
    "We can use a phrase to help remember each of the measurements and where they go on the stairs is:\n",
    "\n",
    "**\"King Henry Died By Drinking Chocolate Milk.\"**\n",
    "\n",
    "Then, we know that:\n",
    "\n",
    "**K**ing is for **K**ilometers.\n",
    "\n",
    "**H**enry is for **H**ectometers.\n",
    "\n",
    "**D**ied is for **D**ecameters.\n",
    "\n",
    "**B**y is for **B**ase or **Meters**.\n",
    "\n",
    "**D**rinking is for **D**ecimeters.\n",
    "\n",
    "**C**hocolate is for **C**entimeters.\n",
    "\n",
    "**M**ilk is for **M**illimeters."
   ]
  },
  {
   "cell_type": "markdown",
   "metadata": {},
   "source": [
    "### Some Example Questions\n",
    "\n",
    "Suppose you had 5 **decameters**, (*dam*), and you wanted to turn them into **kilometers**, (*km*). Since we know that going from **decameters** to **kilometers** is going **UP** 2 steps, we must divide the amount of hectometers by 10 twice. This is because:"
   ]
  },
  {
   "cell_type": "code",
   "execution_count": 33,
   "metadata": {},
   "outputs": [
    {
     "data": {
      "text/html": [
       "<h3 align='center'>$\\ \\frac{Decameter}{10} = (Hectometer) $</h3>"
      ],
      "text/plain": [
       "<IPython.core.display.HTML object>"
      ]
     },
     "metadata": {},
     "output_type": "display_data"
    }
   ],
   "source": [
    "%%html\n",
    "<h3 align='center'>$\\ \\frac{Decameter}{10} = (Hectometer) $</h3>"
   ]
  },
  {
   "cell_type": "markdown",
   "metadata": {},
   "source": [
    "And:"
   ]
  },
  {
   "cell_type": "code",
   "execution_count": 32,
   "metadata": {},
   "outputs": [
    {
     "data": {
      "text/html": [
       "<h3 align='center'>$\\ \\frac{Hectometer}{10} = (Kilometer) $</h3>"
      ],
      "text/plain": [
       "<IPython.core.display.HTML object>"
      ]
     },
     "metadata": {},
     "output_type": "display_data"
    }
   ],
   "source": [
    "%%html\n",
    "<h3 align='center'>$\\ \\frac{Hectometer}{10} = (Kilometer) $</h3>"
   ]
  },
  {
   "cell_type": "markdown",
   "metadata": {},
   "source": [
    "Then, we can find the answer by doing:"
   ]
  },
  {
   "cell_type": "code",
   "execution_count": 42,
   "metadata": {},
   "outputs": [
    {
     "data": {
      "text/html": [
       "<h3 align='center'>$\\ \\frac{Decameters}{10 * 10} = \\frac{Decameters}{100} = (Kilometers) $</h3>"
      ],
      "text/plain": [
       "<IPython.core.display.HTML object>"
      ]
     },
     "metadata": {},
     "output_type": "display_data"
    }
   ],
   "source": [
    "%%html\n",
    "<h3 align='center'>$\\ \\frac{Decameters}{10 * 10} = \\frac{Decameters}{100} = (Kilometers) $</h3>"
   ]
  },
  {
   "cell_type": "markdown",
   "metadata": {},
   "source": [
    "Therefore:"
   ]
  },
  {
   "cell_type": "code",
   "execution_count": 51,
   "metadata": {},
   "outputs": [
    {
     "data": {
      "text/html": [
       "<h3 align='center'>$\\ \\frac{5}{100} = (0.05) $</h3>"
      ],
      "text/plain": [
       "<IPython.core.display.HTML object>"
      ]
     },
     "metadata": {},
     "output_type": "display_data"
    }
   ],
   "source": [
    "%%html\n",
    "<h3 align='center'>$\\ \\frac{5}{100} = (0.05) $</h3>"
   ]
  },
  {
   "cell_type": "markdown",
   "metadata": {},
   "source": [
    "**ANSWER:** 5 *dam* = 0.05 *km*. "
   ]
  },
  {
   "cell_type": "markdown",
   "metadata": {},
   "source": [
    "Suppose instead that you had 7 **centimeters**, (*cm*), and you wanted to turn them into **millimeters**, (*mm*). Since we know that going from **centimeters** to **milimeters** is going **DOWN** 1 step, we must multiply the amount of centimeters by 10 once. This is because:"
   ]
  },
  {
   "cell_type": "code",
   "execution_count": 1,
   "metadata": {},
   "outputs": [
    {
     "data": {
      "text/html": [
       "<h3 align='center'>$\\ (Centimeter)*10 = (Milimeter) $</h3>"
      ],
      "text/plain": [
       "<IPython.core.display.HTML object>"
      ]
     },
     "metadata": {},
     "output_type": "display_data"
    }
   ],
   "source": [
    "%%html\n",
    "<h3 align='center'>$\\ (Centimeter)*10 = (Milimeter) $</h3>"
   ]
  },
  {
   "cell_type": "markdown",
   "metadata": {},
   "source": [
    "Then, we can find the answer by doing:"
   ]
  },
  {
   "cell_type": "code",
   "execution_count": 53,
   "metadata": {},
   "outputs": [
    {
     "data": {
      "text/html": [
       "<h3 align='center'>$ 7*10 = (70) $</h3>"
      ],
      "text/plain": [
       "<IPython.core.display.HTML object>"
      ]
     },
     "metadata": {},
     "output_type": "display_data"
    }
   ],
   "source": [
    "%%html\n",
    "<h3 align='center'>$ 7*10 = (70) $</h3>"
   ]
  },
  {
   "cell_type": "markdown",
   "metadata": {},
   "source": [
    "**ANSWER:** 7 *cm* = 70 *mm*"
   ]
  },
  {
   "cell_type": "markdown",
   "metadata": {},
   "source": [
    "### Practice Question 5"
   ]
  },
  {
   "cell_type": "code",
   "execution_count": 80,
   "metadata": {},
   "outputs": [
    {
     "name": "stdout",
     "output_type": "stream",
     "text": [
      "True or False: 33 decimeters greater than 0.032 decameters.\n"
     ]
    },
    {
     "data": {
      "application/vnd.jupyter.widget-view+json": {
       "model_id": "ebdda98d21384d1b881aff906a589fbb",
       "version_major": 2,
       "version_minor": 0
      },
      "text/html": [
       "<p>Failed to display Jupyter Widget of type <code>interactive</code>.</p>\n",
       "<p>\n",
       "  If you're reading this message in the Jupyter Notebook or JupyterLab Notebook, it may mean\n",
       "  that the widgets JavaScript is still loading. If this message persists, it\n",
       "  likely means that the widgets JavaScript library is either not installed or\n",
       "  not enabled. See the <a href=\"https://ipywidgets.readthedocs.io/en/stable/user_install.html\">Jupyter\n",
       "  Widgets Documentation</a> for setup instructions.\n",
       "</p>\n",
       "<p>\n",
       "  If you're reading this message in another frontend (for example, a static\n",
       "  rendering on GitHub or <a href=\"https://nbviewer.jupyter.org/\">NBViewer</a>),\n",
       "  it may mean that your frontend doesn't currently support widgets.\n",
       "</p>\n"
      ],
      "text/plain": [
       "interactive(children=(RadioButtons(description='Answer:', options=('Select Option', 'True', 'False'), value='Select Option'), Output()), _dom_classes=('widget-interact',))"
      ]
     },
     "metadata": {},
     "output_type": "display_data"
    }
   ],
   "source": [
    "print(\"True or False: 33 decimeters greater than 0.032 decameters.\")\n",
    "\n",
    "@interact(answer = widgets.RadioButtons(\n",
    "    options=['Select Option', 'True', 'False'],\n",
    "    description='Answer:',\n",
    "    disabled=False\n",
    "))\n",
    "\n",
    "def reflective_angle_question(answer):\n",
    "    if answer==\"Select Option\":\n",
    "        print(\"Click on the correct answer.\\n\")\n",
    "    \n",
    "    elif answer==\"True\":\n",
    "        print(\"Correct!\\\n",
    "        \\n33 decimeters is 0.33 decameters, which is greater than the 0.032 decameters.\")\n",
    "        \n",
    "    elif answer ==\"False\":\n",
    "        print(\"Incorrect.\\\n",
    "        \\nRemember, going from decimeters to decameters is going up 2 steps.\")"
   ]
  },
  {
   "cell_type": "code",
   "execution_count": 81,
   "metadata": {},
   "outputs": [
    {
     "name": "stdout",
     "output_type": "stream",
     "text": [
      "True or False: 0.4 hectometers greater than 43 meters.\n"
     ]
    },
    {
     "data": {
      "application/vnd.jupyter.widget-view+json": {
       "model_id": "6d467ca226184881b4a8c6ea8f60475e",
       "version_major": 2,
       "version_minor": 0
      },
      "text/html": [
       "<p>Failed to display Jupyter Widget of type <code>interactive</code>.</p>\n",
       "<p>\n",
       "  If you're reading this message in the Jupyter Notebook or JupyterLab Notebook, it may mean\n",
       "  that the widgets JavaScript is still loading. If this message persists, it\n",
       "  likely means that the widgets JavaScript library is either not installed or\n",
       "  not enabled. See the <a href=\"https://ipywidgets.readthedocs.io/en/stable/user_install.html\">Jupyter\n",
       "  Widgets Documentation</a> for setup instructions.\n",
       "</p>\n",
       "<p>\n",
       "  If you're reading this message in another frontend (for example, a static\n",
       "  rendering on GitHub or <a href=\"https://nbviewer.jupyter.org/\">NBViewer</a>),\n",
       "  it may mean that your frontend doesn't currently support widgets.\n",
       "</p>\n"
      ],
      "text/plain": [
       "interactive(children=(RadioButtons(description='Answer:', options=('Select Option', 'True', 'False'), value='Select Option'), Output()), _dom_classes=('widget-interact',))"
      ]
     },
     "metadata": {},
     "output_type": "display_data"
    }
   ],
   "source": [
    "print(\"True or False: 0.4 hectometers greater than 43 meters.\")\n",
    "\n",
    "@interact(answer = widgets.RadioButtons(\n",
    "    options=['Select Option', 'True', 'False'],\n",
    "    description='Answer:',\n",
    "    disabled=False\n",
    "))\n",
    "\n",
    "def reflective_angle_question(answer):\n",
    "    if answer==\"Select Option\":\n",
    "        print(\"Is this statement true or false?\\n\")\n",
    "    \n",
    "    elif answer==\"True\":\n",
    "        print(\"Incorrect.\\\n",
    "        \\nRemember, going from hectometers to meters is going down 2 steps.\")\n",
    "        \n",
    "    elif answer ==\"False\":\n",
    "        print(\"Correct!\\\n",
    "        \\n0.4 decimeters is 40 meters, which is less than the 43 meters.\")"
   ]
  },
  {
   "cell_type": "code",
   "execution_count": 82,
   "metadata": {},
   "outputs": [
    {
     "name": "stdout",
     "output_type": "stream",
     "text": [
      "True or False: 3852 milimeters greater than 30 meters.\n"
     ]
    },
    {
     "data": {
      "application/vnd.jupyter.widget-view+json": {
       "model_id": "c2c5f0ed0dc0400ea7088384005046bb",
       "version_major": 2,
       "version_minor": 0
      },
      "text/html": [
       "<p>Failed to display Jupyter Widget of type <code>interactive</code>.</p>\n",
       "<p>\n",
       "  If you're reading this message in the Jupyter Notebook or JupyterLab Notebook, it may mean\n",
       "  that the widgets JavaScript is still loading. If this message persists, it\n",
       "  likely means that the widgets JavaScript library is either not installed or\n",
       "  not enabled. See the <a href=\"https://ipywidgets.readthedocs.io/en/stable/user_install.html\">Jupyter\n",
       "  Widgets Documentation</a> for setup instructions.\n",
       "</p>\n",
       "<p>\n",
       "  If you're reading this message in another frontend (for example, a static\n",
       "  rendering on GitHub or <a href=\"https://nbviewer.jupyter.org/\">NBViewer</a>),\n",
       "  it may mean that your frontend doesn't currently support widgets.\n",
       "</p>\n"
      ],
      "text/plain": [
       "interactive(children=(RadioButtons(description='Answer:', options=('Select Option', 'True', 'False'), value='Select Option'), Output()), _dom_classes=('widget-interact',))"
      ]
     },
     "metadata": {},
     "output_type": "display_data"
    }
   ],
   "source": [
    "print(\"True or False: 3852 milimeters greater than 30 meters.\")\n",
    "\n",
    "@interact(answer = widgets.RadioButtons(\n",
    "    options=['Select Option', 'True', 'False'],\n",
    "    description='Answer:',\n",
    "    disabled=False\n",
    "))\n",
    "\n",
    "def reflective_angle_question(answer):\n",
    "    if answer==\"Select Option\":\n",
    "        print(\"Is this statement true or false?\\n\")\n",
    "    \n",
    "    elif answer==\"True\":\n",
    "        print(\"Incorrect.\\\n",
    "        \\nRemember, going from milimeters to meters is going up 3 steps.\")\n",
    "        \n",
    "    elif answer ==\"False\":\n",
    "        print(\"Correct!\\\n",
    "        \\n3852 milimeters is 3.852 meters, which is less than the 30 meters.\")"
   ]
  },
  {
   "cell_type": "markdown",
   "metadata": {},
   "source": [
    "### Practice Question 6\n",
    "\n",
    "The average conventional freight trains in the US are about **2 kilometers** long."
   ]
  },
  {
   "cell_type": "code",
   "execution_count": 83,
   "metadata": {},
   "outputs": [
    {
     "name": "stdout",
     "output_type": "stream",
     "text": [
      "How long would the train be in meters?\n"
     ]
    },
    {
     "data": {
      "application/vnd.jupyter.widget-view+json": {
       "model_id": "6909c279eb314b1ebb571e6b9593413b",
       "version_major": 2,
       "version_minor": 0
      },
      "text/html": [
       "<p>Failed to display Jupyter Widget of type <code>interactive</code>.</p>\n",
       "<p>\n",
       "  If you're reading this message in the Jupyter Notebook or JupyterLab Notebook, it may mean\n",
       "  that the widgets JavaScript is still loading. If this message persists, it\n",
       "  likely means that the widgets JavaScript library is either not installed or\n",
       "  not enabled. See the <a href=\"https://ipywidgets.readthedocs.io/en/stable/user_install.html\">Jupyter\n",
       "  Widgets Documentation</a> for setup instructions.\n",
       "</p>\n",
       "<p>\n",
       "  If you're reading this message in another frontend (for example, a static\n",
       "  rendering on GitHub or <a href=\"https://nbviewer.jupyter.org/\">NBViewer</a>),\n",
       "  it may mean that your frontend doesn't currently support widgets.\n",
       "</p>\n"
      ],
      "text/plain": [
       "interactive(children=(IntText(value=0, description='Answer: '), Output()), _dom_classes=('widget-interact',))"
      ]
     },
     "metadata": {},
     "output_type": "display_data"
    }
   ],
   "source": [
    "from ipywidgets import interact_manual,widgets\n",
    "\n",
    "print(\"How long would the train be in meters?\")\n",
    "       \n",
    "@interact(answer = widgets.IntText(\n",
    "    value = 0,\n",
    "    description = 'Answer: ',\n",
    "    disabled = False\n",
    "))\n",
    "\n",
    "def reflective_angle_question(answer):\n",
    "    if answer == 2000:\n",
    "        print(\"Correct!\\\n",
    "        \\nThe train is 2 kilometers long, and going from kilometers to meters is going down 4 steps. \\\n",
    "        \\nThen, we do 2 * 10 * 10 * 10. This equals 2000 meters\")\n",
    "    \n",
    "    elif answer == 0:\n",
    "        print(\"Type the length of the train in meters.\")\n",
    "        \n",
    "    else:\n",
    "        print(\"Incorrect.\\\n",
    "        \\nRemember, going from kilometers to meters is going down 4 steps.\")"
   ]
  },
  {
   "cell_type": "code",
   "execution_count": 84,
   "metadata": {},
   "outputs": [
    {
     "name": "stdout",
     "output_type": "stream",
     "text": [
      "How long would the train be in decameters?\n"
     ]
    },
    {
     "data": {
      "application/vnd.jupyter.widget-view+json": {
       "model_id": "3a1a71c91d114c789ea30ee29fb6f87b",
       "version_major": 2,
       "version_minor": 0
      },
      "text/html": [
       "<p>Failed to display Jupyter Widget of type <code>interactive</code>.</p>\n",
       "<p>\n",
       "  If you're reading this message in the Jupyter Notebook or JupyterLab Notebook, it may mean\n",
       "  that the widgets JavaScript is still loading. If this message persists, it\n",
       "  likely means that the widgets JavaScript library is either not installed or\n",
       "  not enabled. See the <a href=\"https://ipywidgets.readthedocs.io/en/stable/user_install.html\">Jupyter\n",
       "  Widgets Documentation</a> for setup instructions.\n",
       "</p>\n",
       "<p>\n",
       "  If you're reading this message in another frontend (for example, a static\n",
       "  rendering on GitHub or <a href=\"https://nbviewer.jupyter.org/\">NBViewer</a>),\n",
       "  it may mean that your frontend doesn't currently support widgets.\n",
       "</p>\n"
      ],
      "text/plain": [
       "interactive(children=(IntText(value=0, description='Answer: '), Output()), _dom_classes=('widget-interact',))"
      ]
     },
     "metadata": {},
     "output_type": "display_data"
    }
   ],
   "source": [
    "from ipywidgets import interact_manual,widgets\n",
    "\n",
    "print(\"How long would the train be in decameters?\")\n",
    "       \n",
    "@interact(answer = widgets.IntText(\n",
    "    value = 0,\n",
    "    description = 'Answer: ',\n",
    "    disabled = False\n",
    "))\n",
    "\n",
    "def reflective_angle_question(answer):\n",
    "    if answer == 200:\n",
    "        print(\"Correct\\\n",
    "        \\nThe train is 2 kilometers long, and going from kilometers to decameters is going down 2 steps. \\\n",
    "        \\nThen, we do 2 * 10 * 10. This equals 200 decameters.\")\n",
    "    \n",
    "    elif answer == 0:\n",
    "        print(\"Type the length of the train in decameters.\")\n",
    "        \n",
    "    else:\n",
    "        print(\"Incorrect.\\\n",
    "        \\nRemember, going from kilometers to decameters is going down 2 steps.\")"
   ]
  },
  {
   "cell_type": "markdown",
   "metadata": {},
   "source": [
    "### Practice Question 7\n",
    "\n",
    "You have a **14 meter** long piece of square wallpaper."
   ]
  },
  {
   "cell_type": "code",
   "execution_count": 85,
   "metadata": {},
   "outputs": [
    {
     "name": "stdout",
     "output_type": "stream",
     "text": [
      "Would the wallpaper cover a 365 decimeter square?\n"
     ]
    },
    {
     "data": {
      "application/vnd.jupyter.widget-view+json": {
       "model_id": "74670c4ddab74e319c090fcebdc224b8",
       "version_major": 2,
       "version_minor": 0
      },
      "text/html": [
       "<p>Failed to display Jupyter Widget of type <code>interactive</code>.</p>\n",
       "<p>\n",
       "  If you're reading this message in the Jupyter Notebook or JupyterLab Notebook, it may mean\n",
       "  that the widgets JavaScript is still loading. If this message persists, it\n",
       "  likely means that the widgets JavaScript library is either not installed or\n",
       "  not enabled. See the <a href=\"https://ipywidgets.readthedocs.io/en/stable/user_install.html\">Jupyter\n",
       "  Widgets Documentation</a> for setup instructions.\n",
       "</p>\n",
       "<p>\n",
       "  If you're reading this message in another frontend (for example, a static\n",
       "  rendering on GitHub or <a href=\"https://nbviewer.jupyter.org/\">NBViewer</a>),\n",
       "  it may mean that your frontend doesn't currently support widgets.\n",
       "</p>\n"
      ],
      "text/plain": [
       "interactive(children=(RadioButtons(description='Answer:', options=('Select Option', 'True', 'False'), value='Select Option'), Output()), _dom_classes=('widget-interact',))"
      ]
     },
     "metadata": {},
     "output_type": "display_data"
    }
   ],
   "source": [
    "print(\"Would the wallpaper cover a 365 decimeter square?\")\n",
    "\n",
    "@interact(answer = widgets.RadioButtons(\n",
    "    options=['Select Option', 'True', 'False'],\n",
    "    description='Answer:',\n",
    "    disabled=False\n",
    "))\n",
    "\n",
    "def reflective_angle_question(answer):\n",
    "    if answer==\"Select Option\":\n",
    "        print(\"Click on the correct answer.\\n\")\n",
    "    \n",
    "    elif answer==\"True\":\n",
    "        print(\"Incorrect!\\\n",
    "        \\nRemember, going from meters to decimeters is going down 1 step.\")\n",
    "        \n",
    "    elif answer ==\"False\":\n",
    "        print(\"Correct!\\\n",
    "        \\n14 meters is 140 decimeters, which is less than the 365 decimeter square we need to cover.\")"
   ]
  },
  {
   "cell_type": "code",
   "execution_count": 86,
   "metadata": {},
   "outputs": [
    {
     "name": "stdout",
     "output_type": "stream",
     "text": [
      "Would the wallpaper cover a 470 centimeter square?\n"
     ]
    },
    {
     "data": {
      "application/vnd.jupyter.widget-view+json": {
       "model_id": "31aa4c797b4248d7a22bff5f56d340a8",
       "version_major": 2,
       "version_minor": 0
      },
      "text/html": [
       "<p>Failed to display Jupyter Widget of type <code>interactive</code>.</p>\n",
       "<p>\n",
       "  If you're reading this message in the Jupyter Notebook or JupyterLab Notebook, it may mean\n",
       "  that the widgets JavaScript is still loading. If this message persists, it\n",
       "  likely means that the widgets JavaScript library is either not installed or\n",
       "  not enabled. See the <a href=\"https://ipywidgets.readthedocs.io/en/stable/user_install.html\">Jupyter\n",
       "  Widgets Documentation</a> for setup instructions.\n",
       "</p>\n",
       "<p>\n",
       "  If you're reading this message in another frontend (for example, a static\n",
       "  rendering on GitHub or <a href=\"https://nbviewer.jupyter.org/\">NBViewer</a>),\n",
       "  it may mean that your frontend doesn't currently support widgets.\n",
       "</p>\n"
      ],
      "text/plain": [
       "interactive(children=(RadioButtons(description='Answer:', options=('Select Option', 'True', 'False'), value='Select Option'), Output()), _dom_classes=('widget-interact',))"
      ]
     },
     "metadata": {},
     "output_type": "display_data"
    }
   ],
   "source": [
    "print(\"Would the wallpaper cover a 470 centimeter square?\")\n",
    "\n",
    "@interact(answer = widgets.RadioButtons(\n",
    "    options=['Select Option', 'True', 'False'],\n",
    "    description='Answer:',\n",
    "    disabled=False\n",
    "))\n",
    "\n",
    "def reflective_angle_question(answer):\n",
    "    if answer==\"Select Option\":\n",
    "        print(\"Click on the correct answer.\\n\")\n",
    "    \n",
    "    elif answer==\"True\":\n",
    "        print(\"Correct!\\\n",
    "        \\n14 meters is 1400 centimeters, which is longer than the 470 centimeter square we need to cover.\")\n",
    "        \n",
    "    elif answer ==\"False\":\n",
    "        print(\"Incorrect.\\\n",
    "        \\nRemember, going from meters to centimeters is going down 2 steps.\")"
   ]
  },
  {
   "cell_type": "code",
   "execution_count": 87,
   "metadata": {},
   "outputs": [
    {
     "name": "stdout",
     "output_type": "stream",
     "text": [
      "Would the wallpaper cover a 0.14 hectometer square?\n"
     ]
    },
    {
     "data": {
      "application/vnd.jupyter.widget-view+json": {
       "model_id": "c54a4124a0e34a4eb104403025f3846f",
       "version_major": 2,
       "version_minor": 0
      },
      "text/html": [
       "<p>Failed to display Jupyter Widget of type <code>interactive</code>.</p>\n",
       "<p>\n",
       "  If you're reading this message in the Jupyter Notebook or JupyterLab Notebook, it may mean\n",
       "  that the widgets JavaScript is still loading. If this message persists, it\n",
       "  likely means that the widgets JavaScript library is either not installed or\n",
       "  not enabled. See the <a href=\"https://ipywidgets.readthedocs.io/en/stable/user_install.html\">Jupyter\n",
       "  Widgets Documentation</a> for setup instructions.\n",
       "</p>\n",
       "<p>\n",
       "  If you're reading this message in another frontend (for example, a static\n",
       "  rendering on GitHub or <a href=\"https://nbviewer.jupyter.org/\">NBViewer</a>),\n",
       "  it may mean that your frontend doesn't currently support widgets.\n",
       "</p>\n"
      ],
      "text/plain": [
       "interactive(children=(RadioButtons(description='Answer:', options=('Select Option', 'True', 'False'), value='Select Option'), Output()), _dom_classes=('widget-interact',))"
      ]
     },
     "metadata": {},
     "output_type": "display_data"
    }
   ],
   "source": [
    "print(\"Would the wallpaper cover a 0.14 hectometer square?\")\n",
    "\n",
    "@interact(answer = widgets.RadioButtons(\n",
    "    options=['Select Option', 'True', 'False'],\n",
    "    description='Answer:',\n",
    "    disabled=False\n",
    "))\n",
    "\n",
    "def reflective_angle_question(answer):\n",
    "    if answer==\"Select Option\":\n",
    "        print(\"Click on the correct answer.\\n\")\n",
    "    \n",
    "    elif answer==\"True\":\n",
    "        print(\"Correct!\\\n",
    "        \\n14 meters is 0.14 hectometers, which is the same length as the square we need to cover.\")\n",
    "        \n",
    "    elif answer ==\"False\":\n",
    "        print(\"Incorrect.\\\n",
    "        \\nRemember, going from meters to hectometers is going up 2 steps.\")"
   ]
  },
  {
   "cell_type": "code",
   "execution_count": 88,
   "metadata": {},
   "outputs": [
    {
     "name": "stdout",
     "output_type": "stream",
     "text": [
      "Would the wallpaper cover a 0.02 kilometer square?\n"
     ]
    },
    {
     "data": {
      "application/vnd.jupyter.widget-view+json": {
       "model_id": "6544ed58a6b0480e820e2aca40e0375e",
       "version_major": 2,
       "version_minor": 0
      },
      "text/html": [
       "<p>Failed to display Jupyter Widget of type <code>interactive</code>.</p>\n",
       "<p>\n",
       "  If you're reading this message in the Jupyter Notebook or JupyterLab Notebook, it may mean\n",
       "  that the widgets JavaScript is still loading. If this message persists, it\n",
       "  likely means that the widgets JavaScript library is either not installed or\n",
       "  not enabled. See the <a href=\"https://ipywidgets.readthedocs.io/en/stable/user_install.html\">Jupyter\n",
       "  Widgets Documentation</a> for setup instructions.\n",
       "</p>\n",
       "<p>\n",
       "  If you're reading this message in another frontend (for example, a static\n",
       "  rendering on GitHub or <a href=\"https://nbviewer.jupyter.org/\">NBViewer</a>),\n",
       "  it may mean that your frontend doesn't currently support widgets.\n",
       "</p>\n"
      ],
      "text/plain": [
       "interactive(children=(RadioButtons(description='Answer:', options=('Select Option', 'True', 'False'), value='Select Option'), Output()), _dom_classes=('widget-interact',))"
      ]
     },
     "metadata": {},
     "output_type": "display_data"
    }
   ],
   "source": [
    "print(\"Would the wallpaper cover a 0.02 kilometer square?\")\n",
    "\n",
    "@interact(answer = widgets.RadioButtons(\n",
    "    options=['Select Option', 'True', 'False'],\n",
    "    description='Answer:',\n",
    "    disabled=False\n",
    "))\n",
    "\n",
    "def reflective_angle_question(answer):\n",
    "    if answer==\"Select Option\":\n",
    "        print(\"Click on the correct answer.\\n\")\n",
    "    \n",
    "    elif answer==\"True\":\n",
    "        print(\"Incorrect!\\\n",
    "        \\nRemember, going from meters to kilometers is going up 3 steps.\")\n",
    "        \n",
    "    elif answer ==\"False\":\n",
    "        print(\"Correct!\\\n",
    "        \\n14 meters is 0.014 kilometers, which is less than the 0.02 kilometer square we need to cover.\")"
   ]
  },
  {
   "cell_type": "markdown",
   "metadata": {},
   "source": [
    "## Calculator For Measurements\n",
    "\n",
    "The following is an interactive calculator for going from any of the 7 units to another unit:"
   ]
  },
  {
   "cell_type": "code",
   "execution_count": 142,
   "metadata": {},
   "outputs": [
    {
     "data": {
      "application/vnd.jupyter.widget-view+json": {
       "model_id": "cfbd243a0fb4402cb6c9df7427572022",
       "version_major": 2,
       "version_minor": 0
      },
      "text/html": [
       "<p>Failed to display Jupyter Widget of type <code>BoundedFloatText</code>.</p>\n",
       "<p>\n",
       "  If you're reading this message in the Jupyter Notebook or JupyterLab Notebook, it may mean\n",
       "  that the widgets JavaScript is still loading. If this message persists, it\n",
       "  likely means that the widgets JavaScript library is either not installed or\n",
       "  not enabled. See the <a href=\"https://ipywidgets.readthedocs.io/en/stable/user_install.html\">Jupyter\n",
       "  Widgets Documentation</a> for setup instructions.\n",
       "</p>\n",
       "<p>\n",
       "  If you're reading this message in another frontend (for example, a static\n",
       "  rendering on GitHub or <a href=\"https://nbviewer.jupyter.org/\">NBViewer</a>),\n",
       "  it may mean that your frontend doesn't currently support widgets.\n",
       "</p>\n"
      ],
      "text/plain": [
       "BoundedFloatText(value=0.0, description='Answer:', max=9999.0)"
      ]
     },
     "metadata": {},
     "output_type": "display_data"
    },
    {
     "data": {
      "application/vnd.jupyter.widget-view+json": {
       "model_id": "1196ecb0348f43f2924c64d8432be871",
       "version_major": 2,
       "version_minor": 0
      },
      "text/html": [
       "<p>Failed to display Jupyter Widget of type <code>SelectionSlider</code>.</p>\n",
       "<p>\n",
       "  If you're reading this message in the Jupyter Notebook or JupyterLab Notebook, it may mean\n",
       "  that the widgets JavaScript is still loading. If this message persists, it\n",
       "  likely means that the widgets JavaScript library is either not installed or\n",
       "  not enabled. See the <a href=\"https://ipywidgets.readthedocs.io/en/stable/user_install.html\">Jupyter\n",
       "  Widgets Documentation</a> for setup instructions.\n",
       "</p>\n",
       "<p>\n",
       "  If you're reading this message in another frontend (for example, a static\n",
       "  rendering on GitHub or <a href=\"https://nbviewer.jupyter.org/\">NBViewer</a>),\n",
       "  it may mean that your frontend doesn't currently support widgets.\n",
       "</p>\n"
      ],
      "text/plain": [
       "SelectionSlider(description='Answer:', options=('Kilometers', 'Hectometers', 'Decameters', 'Meters', 'Decimeters', 'Centimeters', 'Millimeters'), value='Kilometers')"
      ]
     },
     "metadata": {},
     "output_type": "display_data"
    },
    {
     "data": {
      "application/vnd.jupyter.widget-view+json": {
       "model_id": "a57c87fdeb884db8bc0dcafae6bc1c81",
       "version_major": 2,
       "version_minor": 0
      },
      "text/html": [
       "<p>Failed to display Jupyter Widget of type <code>SelectionSlider</code>.</p>\n",
       "<p>\n",
       "  If you're reading this message in the Jupyter Notebook or JupyterLab Notebook, it may mean\n",
       "  that the widgets JavaScript is still loading. If this message persists, it\n",
       "  likely means that the widgets JavaScript library is either not installed or\n",
       "  not enabled. See the <a href=\"https://ipywidgets.readthedocs.io/en/stable/user_install.html\">Jupyter\n",
       "  Widgets Documentation</a> for setup instructions.\n",
       "</p>\n",
       "<p>\n",
       "  If you're reading this message in another frontend (for example, a static\n",
       "  rendering on GitHub or <a href=\"https://nbviewer.jupyter.org/\">NBViewer</a>),\n",
       "  it may mean that your frontend doesn't currently support widgets.\n",
       "</p>\n"
      ],
      "text/plain": [
       "SelectionSlider(description='Answer:', options=('Kilometers', 'Hectometers', 'Decameters', 'Meters', 'Decimeters', 'Centimeters', 'Millimeters'), value='Kilometers')"
      ]
     },
     "metadata": {},
     "output_type": "display_data"
    }
   ],
   "source": [
    "from ipywidgets import interact_manual,widgets\n",
    "from IPython.display import display\n",
    "\n",
    "MeasureList = ['Kilometers', 'Hectometers', 'Decameters', 'Meters', \\\n",
    "               'Decimeters', 'Centimeters', 'Millimeters']\n",
    "\n",
    "#Let user choose the final measurement. \n",
    "#Bounded between 0 and 9999 to make sure it's positive.\n",
    "initVal = widgets.BoundedFloatText(value = 0, \\\n",
    "                                   min = 0, \\\n",
    "                                   max = 9999, \\\n",
    "                                   description = 'Answer:')\n",
    "\n",
    "#Let user choose the initial measurement.\n",
    "initMeas = widgets.SelectionSlider(options = MeasureList, \\\n",
    "                                   value = 'Kilometers', \\\n",
    "                                   description = 'Answer:')\n",
    "\n",
    "#Let user choose the final measurement.\n",
    "finMeas = widgets.SelectionSlider(options = MeasureList, \\\n",
    "                                  value = 'Kilometers', \\\n",
    "                                  description = 'Answer:')\n",
    "\n",
    "display(initVal)\n",
    "display(initMeas)\n",
    "display(finMeas)"
   ]
  },
  {
   "cell_type": "code",
   "execution_count": 141,
   "metadata": {},
   "outputs": [
    {
     "data": {
      "application/vnd.jupyter.widget-view+json": {
       "model_id": "282080f92c8d4a3a9306b06fbbd2f7bb",
       "version_major": 2,
       "version_minor": 0
      },
      "text/html": [
       "<p>Failed to display Jupyter Widget of type <code>Button</code>.</p>\n",
       "<p>\n",
       "  If you're reading this message in the Jupyter Notebook or JupyterLab Notebook, it may mean\n",
       "  that the widgets JavaScript is still loading. If this message persists, it\n",
       "  likely means that the widgets JavaScript library is either not installed or\n",
       "  not enabled. See the <a href=\"https://ipywidgets.readthedocs.io/en/stable/user_install.html\">Jupyter\n",
       "  Widgets Documentation</a> for setup instructions.\n",
       "</p>\n",
       "<p>\n",
       "  If you're reading this message in another frontend (for example, a static\n",
       "  rendering on GitHub or <a href=\"https://nbviewer.jupyter.org/\">NBViewer</a>),\n",
       "  it may mean that your frontend doesn't currently support widgets.\n",
       "</p>\n"
      ],
      "text/plain": [
       "Button(description='Calculate', style=ButtonStyle())"
      ]
     },
     "metadata": {},
     "output_type": "display_data"
    },
    {
     "name": "stdout",
     "output_type": "stream",
     "text": [
      "Your initial measurement of 42.0 Kilometers becomes 42.0 Kilometers.\n"
     ]
    }
   ],
   "source": [
    "from ipywidgets import interact_manual,widgets\n",
    "from IPython.display import display\n",
    "\n",
    "#\"MeasureDict\" assigns a numeric value to each of the units of measurement. This will help us to calculate\n",
    "# going from one unit to another.\n",
    "MeasureDict = {'Kilometers' : 7, 'Hectometers': 6, 'Decameters': 5,\\\n",
    "               'Meters': 4, 'Decimeters': 3, 'Centimeters': 2, 'Millimeters': 1}\n",
    "\n",
    "#\"calculate_final\" will determine what the final value obtained from the new measurement type.\n",
    "def calculate_final(initV, initM, finM):\n",
    "    \n",
    "    #Create the global value finV. This will store the final measurement value.\n",
    "    global finV\n",
    "    \n",
    "    #Find the difference, (diff), between initM and finM and store it in diff. Two cases exist:\n",
    "    #  1. diff is less than or equal to 0:\n",
    "    #     In this case the final measurement type is smaller than or equal to the initial measurement type.\n",
    "    #     Therefore, must divide by 10 |diff| amount of times, (Or simply multiply 10 ** diff)\n",
    "    #\n",
    "    #  2. diff is greater than 0:\n",
    "    #     In this case the final measurement type is greater than or equal to the final measurement type.\n",
    "    #     Therefore, must multiply by 10 diff amount of times, (Or simply multiply 10 ** diff)\n",
    "    #\n",
    "    #Thus, we can use 10**diff as it works for both cases.\n",
    "    diff = initM - finM\n",
    "    finV = initV * 10**diff\n",
    "\n",
    "#Create a button to calculate the change in measurement.\n",
    "button = widgets.Button(description=\"Calculate\")\n",
    "display(button)\n",
    "\n",
    "def on_button_clicked(b):\n",
    "    #Get the initial value inputed as an integer.\n",
    "    initV = initVal.value\n",
    "    \n",
    "    #Get the initial measurement inputed as a string.\n",
    "    initM = initMeas.value\n",
    "    \n",
    "    #Get the final measurement inputed as a string.\n",
    "    finM = finMeas.value\n",
    "    \n",
    "    #Get the key value of the initial measurement type.\n",
    "    initMeasKey = MeasureDict.get(initM)\n",
    "\n",
    "    #Get the key value of the final measurement type.\n",
    "    finMeasKey = MeasureDict.get(finM)\n",
    "\n",
    "    #Calculate the final value.\n",
    "    calculate_final(initV, initMeasKey, finMeasKey)\n",
    "\n",
    "    print(\"Your initial measurement of \" + str(initV) + \" \" + initM + \\\n",
    "          \" becomes \" + str(finV) + \" \" + finM + \".\")\n",
    "\n",
    "button.on_click(on_button_clicked)"
   ]
  },
  {
   "cell_type": "code",
   "execution_count": 129,
   "metadata": {},
   "outputs": [
    {
     "data": {
      "text/html": [
       "<h1 align='center'> Excercises </h1>"
      ],
      "text/plain": [
       "<IPython.core.display.HTML object>"
      ]
     },
     "metadata": {},
     "output_type": "display_data"
    }
   ],
   "source": [
    "%%html\n",
    "<h1 align='center'> Excercises </h1>"
   ]
  },
  {
   "cell_type": "markdown",
   "metadata": {},
   "source": [
    "## Question 1\n",
    "\n",
    "Given the following **circle**:"
   ]
  },
  {
   "cell_type": "markdown",
   "metadata": {},
   "source": [
    "<img src=\"files/Question1.png\">"
   ]
  },
  {
   "cell_type": "code",
   "execution_count": 165,
   "metadata": {},
   "outputs": [
    {
     "name": "stdout",
     "output_type": "stream",
     "text": [
      "What is the diameter? (Round to the nearest CENTIMETER)\n"
     ]
    },
    {
     "data": {
      "application/vnd.jupyter.widget-view+json": {
       "model_id": "309636da612147e6becc7c5b3662f81c",
       "version_major": 2,
       "version_minor": 0
      },
      "text/html": [
       "<p>Failed to display Jupyter Widget of type <code>interactive</code>.</p>\n",
       "<p>\n",
       "  If you're reading this message in the Jupyter Notebook or JupyterLab Notebook, it may mean\n",
       "  that the widgets JavaScript is still loading. If this message persists, it\n",
       "  likely means that the widgets JavaScript library is either not installed or\n",
       "  not enabled. See the <a href=\"https://ipywidgets.readthedocs.io/en/stable/user_install.html\">Jupyter\n",
       "  Widgets Documentation</a> for setup instructions.\n",
       "</p>\n",
       "<p>\n",
       "  If you're reading this message in another frontend (for example, a static\n",
       "  rendering on GitHub or <a href=\"https://nbviewer.jupyter.org/\">NBViewer</a>),\n",
       "  it may mean that your frontend doesn't currently support widgets.\n",
       "</p>\n"
      ],
      "text/plain": [
       "interactive(children=(IntText(value=0, description='Answer: '), Output()), _dom_classes=('widget-interact',))"
      ]
     },
     "metadata": {},
     "output_type": "display_data"
    }
   ],
   "source": [
    "from ipywidgets import interact_manual,widgets\n",
    "\n",
    "print(\"What is the diameter? (Round to the nearest CENTIMETER)\")\n",
    "\n",
    "@interact(answer =widgets.IntText(\n",
    "    value=0,\n",
    "    description='Answer: ',\n",
    "    disabled=False\n",
    "))\n",
    "\n",
    "def reflective_angle_question(answer):\n",
    "    if answer == 3:\n",
    "        print(\"Correct!\\\n",
    "        \\nThe radius is 19 ÷ (2 * pi). This equals 3.02394... cm which is rounded to 3 cm.\")\n",
    "    \n",
    "    elif answer == 0:\n",
    "        print(\"Type the diameter of the circle.\")\n",
    "        \n",
    "    else:\n",
    "        print(\"Incorrect.\\\n",
    "        \\nRemember, in this question we are given the circumference. \\\n",
    "        \\nTry to find a way to go from circumference to radius.\")"
   ]
  },
  {
   "cell_type": "code",
   "execution_count": 164,
   "metadata": {},
   "outputs": [
    {
     "name": "stdout",
     "output_type": "stream",
     "text": [
      "What is the radius? (Round to the nearest METER)\n"
     ]
    },
    {
     "data": {
      "application/vnd.jupyter.widget-view+json": {
       "model_id": "e381c6706ceb40fb9d9c5625b5f83e55",
       "version_major": 2,
       "version_minor": 0
      },
      "text/html": [
       "<p>Failed to display Jupyter Widget of type <code>interactive</code>.</p>\n",
       "<p>\n",
       "  If you're reading this message in the Jupyter Notebook or JupyterLab Notebook, it may mean\n",
       "  that the widgets JavaScript is still loading. If this message persists, it\n",
       "  likely means that the widgets JavaScript library is either not installed or\n",
       "  not enabled. See the <a href=\"https://ipywidgets.readthedocs.io/en/stable/user_install.html\">Jupyter\n",
       "  Widgets Documentation</a> for setup instructions.\n",
       "</p>\n",
       "<p>\n",
       "  If you're reading this message in another frontend (for example, a static\n",
       "  rendering on GitHub or <a href=\"https://nbviewer.jupyter.org/\">NBViewer</a>),\n",
       "  it may mean that your frontend doesn't currently support widgets.\n",
       "</p>\n"
      ],
      "text/plain": [
       "interactive(children=(FloatText(value=0.0, description='Answer: '), Output()), _dom_classes=('widget-interact',))"
      ]
     },
     "metadata": {},
     "output_type": "display_data"
    }
   ],
   "source": [
    "from ipywidgets import interact_manual,widgets\n",
    "\n",
    "print(\"What is the radius? (Round to the nearest METER)\")\n",
    "       \n",
    "@interact(answer =widgets.FloatText(\n",
    "    value=0,\n",
    "    description='Answer: ',\n",
    "    disabled=False\n",
    "))\n",
    "\n",
    "def reflective_angle_question(answer):\n",
    "    if answer == 0.06:\n",
    "        print(\"Correct!\\\n",
    "        \\nThe diameter is twice the radius, which we found to be 3cm in the last question. \\\n",
    "        \\n Then, we divide the diameter by 100 to get it to 0.06m.\")\n",
    "    \n",
    "    elif answer == 0:\n",
    "        print(\"Type the radius of the circle.\")\n",
    "        \n",
    "    else:\n",
    "        print(\"Incorrect.\\\n",
    "        \\nRemember, in this question we want the nearest meter. \\\n",
    "        \\nTry using the relationship between radius and diameter.\")"
   ]
  },
  {
   "cell_type": "markdown",
   "metadata": {},
   "source": [
    "## Question 2\n",
    "\n",
    "Bob is a farmer who built a perfectly square fence that had a perimeter of 32 meters. Suppose that Bob wanted to build the largest circular fence he could inside the square fence."
   ]
  },
  {
   "cell_type": "code",
   "execution_count": 163,
   "metadata": {},
   "outputs": [
    {
     "name": "stdout",
     "output_type": "stream",
     "text": [
      "What is the circumference of the circular fence? (Round to the nearest METER)\n"
     ]
    },
    {
     "data": {
      "application/vnd.jupyter.widget-view+json": {
       "model_id": "9dd8b7d3b23645559b5700553ab1c6e2",
       "version_major": 2,
       "version_minor": 0
      },
      "text/html": [
       "<p>Failed to display Jupyter Widget of type <code>interactive</code>.</p>\n",
       "<p>\n",
       "  If you're reading this message in the Jupyter Notebook or JupyterLab Notebook, it may mean\n",
       "  that the widgets JavaScript is still loading. If this message persists, it\n",
       "  likely means that the widgets JavaScript library is either not installed or\n",
       "  not enabled. See the <a href=\"https://ipywidgets.readthedocs.io/en/stable/user_install.html\">Jupyter\n",
       "  Widgets Documentation</a> for setup instructions.\n",
       "</p>\n",
       "<p>\n",
       "  If you're reading this message in another frontend (for example, a static\n",
       "  rendering on GitHub or <a href=\"https://nbviewer.jupyter.org/\">NBViewer</a>),\n",
       "  it may mean that your frontend doesn't currently support widgets.\n",
       "</p>\n"
      ],
      "text/plain": [
       "interactive(children=(IntText(value=0, description='Answer: '), Output()), _dom_classes=('widget-interact',))"
      ]
     },
     "metadata": {},
     "output_type": "display_data"
    }
   ],
   "source": [
    "from ipywidgets import interact_manual,widgets\n",
    "\n",
    "print(\"What is the circumference of the circular fence? (Round to the nearest METER)\")\n",
    "       \n",
    "@interact(answer =widgets.IntText(\n",
    "    value=0,\n",
    "    description='Answer: ',\n",
    "    disabled=False\n",
    "))\n",
    "\n",
    "def reflective_angle_question(answer):\n",
    "    if answer == 25:\n",
    "        print(\"Correct!\\\n",
    "        \\nThe diameter of the new fence would be 32 ÷ 4, which equals 8. \\\n",
    "        \\nThen, the circumference is 8 * pi. This equals 25.13274...m, or 25m.\")\n",
    "    \n",
    "    elif answer == 0:\n",
    "        print(\"Type the circumference of the circle.\")\n",
    "        \n",
    "    else:\n",
    "        print(\"Incorrect.\\\n",
    "        \\nRemember, in this question we are given the perimeter of a square fence. \\\n",
    "        \\nTry finding how long the edge of the square fence is, and then use that as the diameter for the new fence.\")"
   ]
  },
  {
   "cell_type": "markdown",
   "metadata": {},
   "source": [
    "## Question 3"
   ]
  },
  {
   "cell_type": "markdown",
   "metadata": {},
   "source": [
    "You view the following **rectangle** from the black circle:"
   ]
  },
  {
   "cell_type": "markdown",
   "metadata": {},
   "source": [
    "<img src=\"files/Question3.png\">"
   ]
  },
  {
   "cell_type": "code",
   "execution_count": 162,
   "metadata": {},
   "outputs": [
    {
     "name": "stdout",
     "output_type": "stream",
     "text": [
      "What is the height? (Give the value in DECAMETERS)\n"
     ]
    },
    {
     "data": {
      "application/vnd.jupyter.widget-view+json": {
       "model_id": "8b60220bf6934853b4b75a9f22926c68",
       "version_major": 2,
       "version_minor": 0
      },
      "text/html": [
       "<p>Failed to display Jupyter Widget of type <code>interactive</code>.</p>\n",
       "<p>\n",
       "  If you're reading this message in the Jupyter Notebook or JupyterLab Notebook, it may mean\n",
       "  that the widgets JavaScript is still loading. If this message persists, it\n",
       "  likely means that the widgets JavaScript library is either not installed or\n",
       "  not enabled. See the <a href=\"https://ipywidgets.readthedocs.io/en/stable/user_install.html\">Jupyter\n",
       "  Widgets Documentation</a> for setup instructions.\n",
       "</p>\n",
       "<p>\n",
       "  If you're reading this message in another frontend (for example, a static\n",
       "  rendering on GitHub or <a href=\"https://nbviewer.jupyter.org/\">NBViewer</a>),\n",
       "  it may mean that your frontend doesn't currently support widgets.\n",
       "</p>\n"
      ],
      "text/plain": [
       "interactive(children=(FloatText(value=0.0, description='Answer: '), Output()), _dom_classes=('widget-interact',))"
      ]
     },
     "metadata": {},
     "output_type": "display_data"
    }
   ],
   "source": [
    "from ipywidgets import interact_manual,widgets\n",
    "\n",
    "print(\"What is the height? (Give the value in DECAMETERS)\")\n",
    "       \n",
    "@interact(answer =widgets.FloatText(\n",
    "    value=0,\n",
    "    description='Answer: ',\n",
    "    disabled=False\n",
    "))\n",
    "\n",
    "def reflective_angle_question(answer):\n",
    "    if answer == 1.24:\n",
    "        print(\"Correct!\\\n",
    "        \\nThe height is equal to 12.4 meters. \\\n",
    "        \\nThen, we divide the height by 10 to get 1.24 decameters.\")\n",
    "    \n",
    "    elif answer == 0:\n",
    "        print(\"Type the height of the rectangle.\")\n",
    "        \n",
    "    else:\n",
    "        print(\"Incorrect.\\\n",
    "        \\nRemember, in this question we want the value in decameters. \\\n",
    "        \\nTry using the length to the from the bottom to the top of the rectangle.\")"
   ]
  },
  {
   "cell_type": "code",
   "execution_count": 161,
   "metadata": {},
   "outputs": [
    {
     "name": "stdout",
     "output_type": "stream",
     "text": [
      "What is the width? (Give the value in CENTIMETERS)\n"
     ]
    },
    {
     "data": {
      "application/vnd.jupyter.widget-view+json": {
       "model_id": "69ec614945e54381b3093015dd9eaabd",
       "version_major": 2,
       "version_minor": 0
      },
      "text/html": [
       "<p>Failed to display Jupyter Widget of type <code>interactive</code>.</p>\n",
       "<p>\n",
       "  If you're reading this message in the Jupyter Notebook or JupyterLab Notebook, it may mean\n",
       "  that the widgets JavaScript is still loading. If this message persists, it\n",
       "  likely means that the widgets JavaScript library is either not installed or\n",
       "  not enabled. See the <a href=\"https://ipywidgets.readthedocs.io/en/stable/user_install.html\">Jupyter\n",
       "  Widgets Documentation</a> for setup instructions.\n",
       "</p>\n",
       "<p>\n",
       "  If you're reading this message in another frontend (for example, a static\n",
       "  rendering on GitHub or <a href=\"https://nbviewer.jupyter.org/\">NBViewer</a>),\n",
       "  it may mean that your frontend doesn't currently support widgets.\n",
       "</p>\n"
      ],
      "text/plain": [
       "interactive(children=(FloatText(value=0.0, description='Answer: '), Output()), _dom_classes=('widget-interact',))"
      ]
     },
     "metadata": {},
     "output_type": "display_data"
    }
   ],
   "source": [
    "from ipywidgets import interact_manual,widgets\n",
    "\n",
    "print(\"What is the width? (Give the value in CENTIMETERS)\")\n",
    "       \n",
    "@interact(answer =widgets.FloatText(\n",
    "    value=0,\n",
    "    description='Answer: ',\n",
    "    disabled=False\n",
    "))\n",
    "\n",
    "def reflective_angle_question(answer):\n",
    "    if answer == 660:\n",
    "        print(\"Correct!\\\n",
    "        \\nThe width is equal to 6.6 meters. \\\n",
    "        \\nThen, we multiply the width by 100 to get 660 centimeters.\")\n",
    "    \n",
    "    elif answer == 0:\n",
    "        print(\"Type the width of the rectangle.\")\n",
    "        \n",
    "    else:\n",
    "        print(\"Incorrect.\\\n",
    "        \\nRemember, in this question we want the value in centimeters. \\\n",
    "        \\nTry using the length at the bottom of the rectangle.\")"
   ]
  },
  {
   "cell_type": "code",
   "execution_count": 160,
   "metadata": {},
   "outputs": [
    {
     "name": "stdout",
     "output_type": "stream",
     "text": [
      "What is the depth of the rectangle? (Give the value in HECTOMETERS)\n"
     ]
    },
    {
     "data": {
      "application/vnd.jupyter.widget-view+json": {
       "model_id": "50ab088503e840e7969668840374cdaf",
       "version_major": 2,
       "version_minor": 0
      },
      "text/html": [
       "<p>Failed to display Jupyter Widget of type <code>interactive</code>.</p>\n",
       "<p>\n",
       "  If you're reading this message in the Jupyter Notebook or JupyterLab Notebook, it may mean\n",
       "  that the widgets JavaScript is still loading. If this message persists, it\n",
       "  likely means that the widgets JavaScript library is either not installed or\n",
       "  not enabled. See the <a href=\"https://ipywidgets.readthedocs.io/en/stable/user_install.html\">Jupyter\n",
       "  Widgets Documentation</a> for setup instructions.\n",
       "</p>\n",
       "<p>\n",
       "  If you're reading this message in another frontend (for example, a static\n",
       "  rendering on GitHub or <a href=\"https://nbviewer.jupyter.org/\">NBViewer</a>),\n",
       "  it may mean that your frontend doesn't currently support widgets.\n",
       "</p>\n"
      ],
      "text/plain": [
       "interactive(children=(FloatText(value=0.0, description='Answer: '), Output()), _dom_classes=('widget-interact',))"
      ]
     },
     "metadata": {},
     "output_type": "display_data"
    }
   ],
   "source": [
    "from ipywidgets import interact_manual,widgets\n",
    "\n",
    "print(\"What is the depth of the rectangle? (Give the value in HECTOMETERS)\")\n",
    "       \n",
    "@interact(answer =widgets.FloatText(\n",
    "    value=0,\n",
    "    description='Answer: ',\n",
    "    disabled=False\n",
    "))\n",
    "\n",
    "def reflective_angle_question(answer):\n",
    "    if answer == 0.034:\n",
    "        print(\"Correct!\\\n",
    "        \\nThe depth is equal to 3.4 meters. \\\n",
    "        \\nThen, we divide the depth by 100 to get 0.034 hectometers.\")\n",
    "    \n",
    "    elif answer == 0:\n",
    "        print(\"Type the width of the rectangle.\")\n",
    "        \n",
    "    else:\n",
    "        print(\"Incorrect.\\\n",
    "        \\nRemember, in this question we want the value in hectometers. \\\n",
    "        \\nTry using the length at the side of the rectangle.\")"
   ]
  },
  {
   "cell_type": "markdown",
   "metadata": {},
   "source": [
    "![alt text](https://github.com/callysto/callysto-sample-notebooks/blob/master/notebooks/images/Callysto_Notebook-Banners_Bottom_06.06.18.jpg?raw=true)"
   ]
  }
 ],
 "metadata": {
  "kernelspec": {
   "display_name": "Python 3",
   "language": "python",
   "name": "python3"
  },
  "language_info": {
   "codemirror_mode": {
    "name": "ipython",
    "version": 3
   },
   "file_extension": ".py",
   "mimetype": "text/x-python",
   "name": "python",
   "nbconvert_exporter": "python",
   "pygments_lexer": "ipython3",
   "version": "3.6.5"
  }
 },
 "nbformat": 4,
 "nbformat_minor": 2
}
