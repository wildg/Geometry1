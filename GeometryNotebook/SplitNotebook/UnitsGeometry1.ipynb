{
 "cells": [
  {
   "cell_type": "code",
   "execution_count": 23,
   "metadata": {},
   "outputs": [
    {
     "data": {
      "text/html": [
       "<script>\n",
       "code_show=true; \n",
       "function code_toggle() {\n",
       " if (code_show){\n",
       " $('div.input').hide();\n",
       " } else {\n",
       " $('div.input').show();\n",
       " }\n",
       " code_show = !code_show\n",
       "} \n",
       "$( document ).ready(code_toggle);\n",
       "</script>\n",
       "The raw code for this IPython notebook is by default hidden for easier reading.\n",
       "To toggle on/off the raw code, click <a href=\"javascript:code_toggle()\">here</a>."
      ],
      "text/plain": [
       "<IPython.core.display.HTML object>"
      ]
     },
     "execution_count": 23,
     "metadata": {},
     "output_type": "execute_result"
    }
   ],
   "source": [
    "from IPython.display import HTML\n",
    "HTML('''<script>\n",
    "code_show=true; \n",
    "function code_toggle() {\n",
    " if (code_show){\n",
    " $('div.input').hide();\n",
    " } else {\n",
    " $('div.input').show();\n",
    " }\n",
    " code_show = !code_show\n",
    "} \n",
    "$( document ).ready(code_toggle);\n",
    "</script>\n",
    "The raw code for this IPython notebook is by default hidden for easier reading.\n",
    "To toggle on/off the raw code, click <a href=\"javascript:code_toggle()\">here</a>.''')"
   ]
  },
  {
   "cell_type": "code",
   "execution_count": 4,
   "metadata": {
    "scrolled": true
   },
   "outputs": [
    {
     "data": {
      "text/html": [
       "<style>\n",
       ".output_wrapper button.btn.btn-default,\n",
       ".output_wrapper .ui-dialog-titlebar {\n",
       "  display: none;\n",
       "}\n",
       "</style>"
      ],
      "text/plain": [
       "<IPython.core.display.HTML object>"
      ]
     },
     "metadata": {},
     "output_type": "display_data"
    }
   ],
   "source": [
    "%%html\n",
    "<style>\n",
    ".output_wrapper button.btn.btn-default,\n",
    ".output_wrapper .ui-dialog-titlebar {\n",
    "  display: none;\n",
    "}\n",
    "</style>"
   ]
  },
  {
   "cell_type": "markdown",
   "metadata": {},
   "source": [
    "![alt text](https://github.com/callysto/callysto-sample-notebooks/blob/master/notebooks/images/Callysto_Notebook-Banner_Top_06.06.18.jpg?raw=true)  \n"
   ]
  },
  {
   "cell_type": "code",
   "execution_count": 2,
   "metadata": {},
   "outputs": [
    {
     "data": {
      "text/html": [
       "<h1 align='center'>Geometry Basics 1 - Units</h1>\n",
       "\n",
       "<h4 align='center'>Grade 8 | Mathematics</h4>"
      ],
      "text/plain": [
       "<IPython.core.display.HTML object>"
      ]
     },
     "metadata": {},
     "output_type": "display_data"
    }
   ],
   "source": [
    "%%html\n",
    "<h1 align='center'>Geometry Basics 1 - Units</h1>\n",
    "\n",
    "<h4 align='center'>Grade 8 | Mathematics</h4>"
   ]
  },
  {
   "cell_type": "code",
   "execution_count": 5,
   "metadata": {},
   "outputs": [],
   "source": [
    "import matplotlib.pyplot as plt\n",
    "import ipywidgets\n",
    "from ipywidgets import widgets, interact, interact_manual, Button, Layout\n",
    "from IPython.display import Javascript, display"
   ]
  },
  {
   "cell_type": "markdown",
   "metadata": {},
   "source": [
    "Hopefully, you've used the previous notebook to learn about how we define shapes. Next, we'll take a look in this notebook at how to explain the metric units such as millimeters, centimeters, meters, and kilometers. These topics will be taught through visual aids and interactive models."
   ]
  },
  {
   "cell_type": "markdown",
   "metadata": {},
   "source": [
    "## Measurements\n",
    "\n",
    "This topic is incredibly important to every day life as it simplifies a lot of human activities. Think about the length of one of your nails. That length can't be treated the same way as the length it takes to go to the Moon from Earth. In other, 'mathier', words, we can't calculate long distances using the same methods we calculate small ones. Otherwise we'd get huge numbers for the long stuff, or tiny ones for the small stuff.\n",
    "\n",
    "So, humans came up with a way to solve this problem, and they created the **metric units**. These metric units help to calculate lengths. There are 7 of these units to focus on: **Kilometers**, **hectometers**, **decameters**, **meters**, **decimeters**, **centimeters**, and **millimeters**.\n",
    "\n",
    "While this may seem like a lot of units to memorize, they'll hopefully become very intuitive by the end of this lesson.\n",
    "\n",
    "The following is a diagram of how these units all interact together. It shows what **1 meter** would look like in each of the units. Make sure to take your time studying it."
   ]
  },
  {
   "cell_type": "markdown",
   "metadata": {},
   "source": [
    "<img src=\"files/LadderMethod.png\">"
   ]
  },
  {
   "cell_type": "markdown",
   "metadata": {},
   "source": [
    "As you may be able to tell from the diagram, these units interact with each other in a special way. This concept is explained in the following two ways:\n",
    "\n",
    "**GOING UP each step is 10 times BIGGER than the last step:** This means that each time you go up a step, your measurement becomes longer. For example, 10 meters, (*m*), is equal to 1 decameter, (*dam*). So, each time you go up a step, you must *divide by 10.* \n",
    "\n",
    "**GOING DOWN each step is 10 times SMALLER than the last step:** This means that each time you go down a step, your measurement becomes smaller. For example, 1 meter, (*m*), is equal to 10 decimeters, (*dm*). So, each time you go down a step, you must *multiply by 10.* \n",
    "\n",
    "Therefore, try to remember: *Going down is multiply, Going up is divide.*"
   ]
  },
  {
   "cell_type": "markdown",
   "metadata": {},
   "source": [
    "### An Useful Way To Memorize\n",
    "\n",
    "We can use a phrase to help remember each of the measurements and where they go on the stairs is:\n",
    "\n",
    "**\"King Henry Died By Drinking Chocolate Milk.\"**\n",
    "\n",
    "Then, we know that:\n",
    "\n",
    "**K**ing is for **K**ilometers.\n",
    "\n",
    "**H**enry is for **H**ectometers.\n",
    "\n",
    "**D**ied is for **D**ecameters.\n",
    "\n",
    "**B**y is for **B**ase or **Meters**.\n",
    "\n",
    "**D**rinking is for **D**ecimeters.\n",
    "\n",
    "**C**hocolate is for **C**entimeters.\n",
    "\n",
    "**M**ilk is for **M**illimeters."
   ]
  },
  {
   "cell_type": "markdown",
   "metadata": {},
   "source": [
    "### Some Example Questions\n",
    "\n",
    "Suppose you had 5 **decameters**, (*dam*), and you wanted to turn them into **kilometers**, (*km*). Since we know that going from **decameters** to **kilometers** is going **UP** 2 steps, we must divide the amount of hectometers by 10 twice. This is because:"
   ]
  },
  {
   "cell_type": "code",
   "execution_count": 33,
   "metadata": {
    "scrolled": true
   },
   "outputs": [
    {
     "data": {
      "text/html": [
       "<h3 align='center'>$\\ \\frac{Decameter}{10} = (Hectometer) $</h3>"
      ],
      "text/plain": [
       "<IPython.core.display.HTML object>"
      ]
     },
     "metadata": {},
     "output_type": "display_data"
    }
   ],
   "source": [
    "%%html\n",
    "<h3 align='center'>$\\ \\frac{Decameter}{10} = (Hectometer) $</h3>"
   ]
  },
  {
   "cell_type": "markdown",
   "metadata": {},
   "source": [
    "And:"
   ]
  },
  {
   "cell_type": "code",
   "execution_count": 32,
   "metadata": {},
   "outputs": [
    {
     "data": {
      "text/html": [
       "<h3 align='center'>$\\ \\frac{Hectometer}{10} = (Kilometer) $</h3>"
      ],
      "text/plain": [
       "<IPython.core.display.HTML object>"
      ]
     },
     "metadata": {},
     "output_type": "display_data"
    }
   ],
   "source": [
    "%%html\n",
    "<h3 align='center'>$\\ \\frac{Hectometer}{10} = (Kilometer) $</h3>"
   ]
  },
  {
   "cell_type": "markdown",
   "metadata": {},
   "source": [
    "Then, we can find the answer by doing:"
   ]
  },
  {
   "cell_type": "code",
   "execution_count": 27,
   "metadata": {
    "scrolled": true
   },
   "outputs": [
    {
     "data": {
      "text/html": [
       "<h3 align='center'>$\\ \\frac{Decameters}{10 \\times 10} = \\frac{Decameters}{100} = (Kilometers) $</h3>"
      ],
      "text/plain": [
       "<IPython.core.display.HTML object>"
      ]
     },
     "metadata": {},
     "output_type": "display_data"
    }
   ],
   "source": [
    "%%html\n",
    "<h3 align='center'>$\\ \\frac{Decameters}{10 \\times 10} = \\frac{Decameters}{100} = (Kilometers) $</h3>"
   ]
  },
  {
   "cell_type": "markdown",
   "metadata": {},
   "source": [
    "Therefore:"
   ]
  },
  {
   "cell_type": "code",
   "execution_count": 51,
   "metadata": {},
   "outputs": [
    {
     "data": {
      "text/html": [
       "<h3 align='center'>$\\ \\frac{5}{100} = (0.05) $</h3>"
      ],
      "text/plain": [
       "<IPython.core.display.HTML object>"
      ]
     },
     "metadata": {},
     "output_type": "display_data"
    }
   ],
   "source": [
    "%%html\n",
    "<h3 align='center'>$\\ \\frac{5}{100} = (0.05) $</h3>"
   ]
  },
  {
   "cell_type": "markdown",
   "metadata": {},
   "source": [
    "**ANSWER:** 5 *dam* = 0.05 *km*. "
   ]
  },
  {
   "cell_type": "markdown",
   "metadata": {},
   "source": [
    "Suppose instead that you had 7 **centimeters**, (*cm*), and you wanted to turn them into **millimeters**, (*mm*). Since we know that going from **centimeters** to **milimeters** is going **DOWN** 1 step, we must multiply the amount of centimeters by 10 once. This is because:"
   ]
  },
  {
   "cell_type": "code",
   "execution_count": 28,
   "metadata": {
    "scrolled": true
   },
   "outputs": [
    {
     "data": {
      "text/html": [
       "<h3 align='center'>$\\ (Centimeter) \\times 10 = (Milimeter) $</h3>"
      ],
      "text/plain": [
       "<IPython.core.display.HTML object>"
      ]
     },
     "metadata": {},
     "output_type": "display_data"
    }
   ],
   "source": [
    "%%html\n",
    "<h3 align='center'>$\\ (Centimeter) \\times 10 = (Milimeter) $</h3>"
   ]
  },
  {
   "cell_type": "markdown",
   "metadata": {},
   "source": [
    "Then, we can find the answer by doing:"
   ]
  },
  {
   "cell_type": "code",
   "execution_count": 29,
   "metadata": {
    "scrolled": true
   },
   "outputs": [
    {
     "data": {
      "text/html": [
       "<h3 align='center'>$ 7 \\times 10 = (70) $</h3>"
      ],
      "text/plain": [
       "<IPython.core.display.HTML object>"
      ]
     },
     "metadata": {},
     "output_type": "display_data"
    }
   ],
   "source": [
    "%%html\n",
    "<h3 align='center'>$ 7 \\times 10 = (70) $</h3>"
   ]
  },
  {
   "cell_type": "markdown",
   "metadata": {},
   "source": [
    "**ANSWER:** 7 *cm* = 70 *mm*"
   ]
  },
  {
   "cell_type": "markdown",
   "metadata": {},
   "source": [
    "### Practice Question 1"
   ]
  },
  {
   "cell_type": "code",
   "execution_count": 6,
   "metadata": {},
   "outputs": [
    {
     "name": "stdout",
     "output_type": "stream",
     "text": [
      "True or False: 33 decimeters greater than 0.032 decameters.\n"
     ]
    },
    {
     "data": {
      "application/vnd.jupyter.widget-view+json": {
       "model_id": "d181d9648af843339ee5d1a318e3ef36",
       "version_major": 2,
       "version_minor": 0
      },
      "text/html": [
       "<p>Failed to display Jupyter Widget of type <code>interactive</code>.</p>\n",
       "<p>\n",
       "  If you're reading this message in the Jupyter Notebook or JupyterLab Notebook, it may mean\n",
       "  that the widgets JavaScript is still loading. If this message persists, it\n",
       "  likely means that the widgets JavaScript library is either not installed or\n",
       "  not enabled. See the <a href=\"https://ipywidgets.readthedocs.io/en/stable/user_install.html\">Jupyter\n",
       "  Widgets Documentation</a> for setup instructions.\n",
       "</p>\n",
       "<p>\n",
       "  If you're reading this message in another frontend (for example, a static\n",
       "  rendering on GitHub or <a href=\"https://nbviewer.jupyter.org/\">NBViewer</a>),\n",
       "  it may mean that your frontend doesn't currently support widgets.\n",
       "</p>\n"
      ],
      "text/plain": [
       "interactive(children=(RadioButtons(description='Answer:', options=('True', 'False'), value=None), Output()), _dom_classes=('widget-interact',))"
      ]
     },
     "metadata": {},
     "output_type": "display_data"
    }
   ],
   "source": [
    "print(\"True or False: 33 decimeters greater than 0.032 decameters.\")\n",
    "\n",
    "@interact(answer = widgets.RadioButtons(\n",
    "    options=['True', 'False'],\n",
    "    description='Answer:',\n",
    "    value = None,\n",
    "    disabled=False\n",
    "))\n",
    "\n",
    "def reflective_angle_question(answer):\n",
    "    if answer==\"True\":\n",
    "        print(\"Correct!\\\n",
    "        \\n33 decimeters is 0.33 decameters, which is greater than the 0.032 decameters.\")\n",
    "        \n",
    "    elif answer ==\"False\":\n",
    "        print(\"Incorrect.\\\n",
    "        \\nRemember, going from decimeters to decameters is going up 2 steps.\")"
   ]
  },
  {
   "cell_type": "code",
   "execution_count": 7,
   "metadata": {},
   "outputs": [
    {
     "name": "stdout",
     "output_type": "stream",
     "text": [
      "True or False: 0.4 hectometers greater than 43 meters.\n"
     ]
    },
    {
     "data": {
      "application/vnd.jupyter.widget-view+json": {
       "model_id": "7ce9eccdbf8f42e898318b46840b52d9",
       "version_major": 2,
       "version_minor": 0
      },
      "text/html": [
       "<p>Failed to display Jupyter Widget of type <code>interactive</code>.</p>\n",
       "<p>\n",
       "  If you're reading this message in the Jupyter Notebook or JupyterLab Notebook, it may mean\n",
       "  that the widgets JavaScript is still loading. If this message persists, it\n",
       "  likely means that the widgets JavaScript library is either not installed or\n",
       "  not enabled. See the <a href=\"https://ipywidgets.readthedocs.io/en/stable/user_install.html\">Jupyter\n",
       "  Widgets Documentation</a> for setup instructions.\n",
       "</p>\n",
       "<p>\n",
       "  If you're reading this message in another frontend (for example, a static\n",
       "  rendering on GitHub or <a href=\"https://nbviewer.jupyter.org/\">NBViewer</a>),\n",
       "  it may mean that your frontend doesn't currently support widgets.\n",
       "</p>\n"
      ],
      "text/plain": [
       "interactive(children=(RadioButtons(description='Answer:', options=('True', 'False'), value=None), Output()), _dom_classes=('widget-interact',))"
      ]
     },
     "metadata": {},
     "output_type": "display_data"
    }
   ],
   "source": [
    "print(\"True or False: 0.4 hectometers greater than 43 meters.\")\n",
    "\n",
    "@interact(answer = widgets.RadioButtons(\n",
    "    options=['True', 'False'],\n",
    "    description='Answer:',\n",
    "    value = None,\n",
    "    disabled=False\n",
    "))\n",
    "\n",
    "def reflective_angle_question(answer):\n",
    "    if answer==\"True\":\n",
    "        print(\"Incorrect.\\\n",
    "        \\nRemember, going from hectometers to meters is going down 2 steps.\")\n",
    "        \n",
    "    elif answer ==\"False\":\n",
    "        print(\"Correct!\\\n",
    "        \\n0.4 decimeters is 40 meters, which is less than the 43 meters.\")"
   ]
  },
  {
   "cell_type": "code",
   "execution_count": 8,
   "metadata": {},
   "outputs": [
    {
     "name": "stdout",
     "output_type": "stream",
     "text": [
      "True or False: 3852 milimeters greater than 30 meters.\n"
     ]
    },
    {
     "data": {
      "application/vnd.jupyter.widget-view+json": {
       "model_id": "436263e16331477ea834d8f79f89b613",
       "version_major": 2,
       "version_minor": 0
      },
      "text/html": [
       "<p>Failed to display Jupyter Widget of type <code>interactive</code>.</p>\n",
       "<p>\n",
       "  If you're reading this message in the Jupyter Notebook or JupyterLab Notebook, it may mean\n",
       "  that the widgets JavaScript is still loading. If this message persists, it\n",
       "  likely means that the widgets JavaScript library is either not installed or\n",
       "  not enabled. See the <a href=\"https://ipywidgets.readthedocs.io/en/stable/user_install.html\">Jupyter\n",
       "  Widgets Documentation</a> for setup instructions.\n",
       "</p>\n",
       "<p>\n",
       "  If you're reading this message in another frontend (for example, a static\n",
       "  rendering on GitHub or <a href=\"https://nbviewer.jupyter.org/\">NBViewer</a>),\n",
       "  it may mean that your frontend doesn't currently support widgets.\n",
       "</p>\n"
      ],
      "text/plain": [
       "interactive(children=(RadioButtons(description='Answer:', options=('True', 'False'), value=None), Output()), _dom_classes=('widget-interact',))"
      ]
     },
     "metadata": {},
     "output_type": "display_data"
    }
   ],
   "source": [
    "print(\"True or False: 3852 milimeters greater than 30 meters.\")\n",
    "\n",
    "@interact(answer = widgets.RadioButtons(\n",
    "    options=['True', 'False'],\n",
    "    description='Answer:',\n",
    "    value = None,\n",
    "    disabled=False\n",
    "))\n",
    "\n",
    "def reflective_angle_question(answer):\n",
    "    if answer==\"True\":\n",
    "        print(\"Incorrect.\\\n",
    "        \\nRemember, going from milimeters to meters is going up 3 steps.\")\n",
    "        \n",
    "    elif answer ==\"False\":\n",
    "        print(\"Correct!\\\n",
    "        \\n3852 milimeters is 3.852 meters, which is less than the 30 meters.\")"
   ]
  },
  {
   "cell_type": "markdown",
   "metadata": {},
   "source": [
    "### Practice Question 2\n",
    "\n",
    "The average conventional freight trains in the US are about **2 kilometers** long."
   ]
  },
  {
   "cell_type": "code",
   "execution_count": 9,
   "metadata": {},
   "outputs": [
    {
     "name": "stdout",
     "output_type": "stream",
     "text": [
      "How long would the train be in meters?\n"
     ]
    },
    {
     "data": {
      "application/vnd.jupyter.widget-view+json": {
       "model_id": "a1452b9be0584c2ba3cff47b7b26805e",
       "version_major": 2,
       "version_minor": 0
      },
      "text/html": [
       "<p>Failed to display Jupyter Widget of type <code>interactive</code>.</p>\n",
       "<p>\n",
       "  If you're reading this message in the Jupyter Notebook or JupyterLab Notebook, it may mean\n",
       "  that the widgets JavaScript is still loading. If this message persists, it\n",
       "  likely means that the widgets JavaScript library is either not installed or\n",
       "  not enabled. See the <a href=\"https://ipywidgets.readthedocs.io/en/stable/user_install.html\">Jupyter\n",
       "  Widgets Documentation</a> for setup instructions.\n",
       "</p>\n",
       "<p>\n",
       "  If you're reading this message in another frontend (for example, a static\n",
       "  rendering on GitHub or <a href=\"https://nbviewer.jupyter.org/\">NBViewer</a>),\n",
       "  it may mean that your frontend doesn't currently support widgets.\n",
       "</p>\n"
      ],
      "text/plain": [
       "interactive(children=(IntText(value=0, description='Answer: '), Output()), _dom_classes=('widget-interact',))"
      ]
     },
     "metadata": {},
     "output_type": "display_data"
    }
   ],
   "source": [
    "from ipywidgets import interact_manual,widgets\n",
    "\n",
    "print(\"How long would the train be in meters?\")\n",
    "       \n",
    "@interact(answer = widgets.IntText(\n",
    "    value = 0,\n",
    "    description = 'Answer: ',\n",
    "    disabled = False\n",
    "))\n",
    "\n",
    "def reflective_angle_question(answer):\n",
    "    if answer == 2000:\n",
    "        print(\"Correct!\\\n",
    "        \\nThe train is 2 kilometers long, and going from kilometers to meters is going down 4 steps. \\\n",
    "        \\nThen, we do 2 * 10 * 10 * 10. This equals 2000 meters\")\n",
    "    \n",
    "    elif answer == 0:\n",
    "        print(\"Type the length of the train in meters.\")\n",
    "        \n",
    "    else:\n",
    "        print(\"Incorrect.\\\n",
    "        \\nRemember, going from kilometers to meters is going down 4 steps.\")"
   ]
  },
  {
   "cell_type": "code",
   "execution_count": 10,
   "metadata": {},
   "outputs": [
    {
     "name": "stdout",
     "output_type": "stream",
     "text": [
      "How long would the train be in decameters?\n"
     ]
    },
    {
     "data": {
      "application/vnd.jupyter.widget-view+json": {
       "model_id": "0332da377dd6427985b65a1a8d44013b",
       "version_major": 2,
       "version_minor": 0
      },
      "text/html": [
       "<p>Failed to display Jupyter Widget of type <code>interactive</code>.</p>\n",
       "<p>\n",
       "  If you're reading this message in the Jupyter Notebook or JupyterLab Notebook, it may mean\n",
       "  that the widgets JavaScript is still loading. If this message persists, it\n",
       "  likely means that the widgets JavaScript library is either not installed or\n",
       "  not enabled. See the <a href=\"https://ipywidgets.readthedocs.io/en/stable/user_install.html\">Jupyter\n",
       "  Widgets Documentation</a> for setup instructions.\n",
       "</p>\n",
       "<p>\n",
       "  If you're reading this message in another frontend (for example, a static\n",
       "  rendering on GitHub or <a href=\"https://nbviewer.jupyter.org/\">NBViewer</a>),\n",
       "  it may mean that your frontend doesn't currently support widgets.\n",
       "</p>\n"
      ],
      "text/plain": [
       "interactive(children=(IntText(value=0, description='Answer: '), Output()), _dom_classes=('widget-interact',))"
      ]
     },
     "metadata": {},
     "output_type": "display_data"
    }
   ],
   "source": [
    "from ipywidgets import interact_manual,widgets\n",
    "\n",
    "print(\"How long would the train be in decameters?\")\n",
    "       \n",
    "@interact(answer = widgets.IntText(\n",
    "    value = 0,\n",
    "    description = 'Answer: ',\n",
    "    disabled = False\n",
    "))\n",
    "\n",
    "def reflective_angle_question(answer):\n",
    "    if answer == 200:\n",
    "        print(\"Correct\\\n",
    "        \\nThe train is 2 kilometers long, and going from kilometers to decameters is going down 2 steps. \\\n",
    "        \\nThen, we do 2 * 10 * 10. This equals 200 decameters.\")\n",
    "    \n",
    "    elif answer == 0:\n",
    "        print(\"Type the length of the train in decameters.\")\n",
    "        \n",
    "    else:\n",
    "        print(\"Incorrect.\\\n",
    "        \\nRemember, going from kilometers to decameters is going down 2 steps.\")"
   ]
  },
  {
   "cell_type": "markdown",
   "metadata": {},
   "source": [
    "### Practice Question 3\n",
    "\n",
    "You have a piece of square wallpaper that has an area of **14 meters**."
   ]
  },
  {
   "cell_type": "code",
   "execution_count": 11,
   "metadata": {},
   "outputs": [
    {
     "name": "stdout",
     "output_type": "stream",
     "text": [
      "Would the wallpaper cover a 365 decimeter square area?\n"
     ]
    },
    {
     "data": {
      "application/vnd.jupyter.widget-view+json": {
       "model_id": "d61ee681557048e8b66c919e69ddb2db",
       "version_major": 2,
       "version_minor": 0
      },
      "text/html": [
       "<p>Failed to display Jupyter Widget of type <code>interactive</code>.</p>\n",
       "<p>\n",
       "  If you're reading this message in the Jupyter Notebook or JupyterLab Notebook, it may mean\n",
       "  that the widgets JavaScript is still loading. If this message persists, it\n",
       "  likely means that the widgets JavaScript library is either not installed or\n",
       "  not enabled. See the <a href=\"https://ipywidgets.readthedocs.io/en/stable/user_install.html\">Jupyter\n",
       "  Widgets Documentation</a> for setup instructions.\n",
       "</p>\n",
       "<p>\n",
       "  If you're reading this message in another frontend (for example, a static\n",
       "  rendering on GitHub or <a href=\"https://nbviewer.jupyter.org/\">NBViewer</a>),\n",
       "  it may mean that your frontend doesn't currently support widgets.\n",
       "</p>\n"
      ],
      "text/plain": [
       "interactive(children=(RadioButtons(description='Answer:', options=('True', 'False'), value=None), Output()), _dom_classes=('widget-interact',))"
      ]
     },
     "metadata": {},
     "output_type": "display_data"
    }
   ],
   "source": [
    "print(\"Would the wallpaper cover a 365 decimeter square area?\")\n",
    "\n",
    "@interact(answer = widgets.RadioButtons(\n",
    "    options=['True', 'False'],\n",
    "    description='Answer:',\n",
    "    value = None,\n",
    "    disabled=False\n",
    "))\n",
    "\n",
    "def reflective_angle_question(answer):\n",
    "    if answer==\"True\":\n",
    "        print(\"Incorrect!\\\n",
    "        \\nRemember, going from meters to decimeters is going down 1 step.\")\n",
    "        \n",
    "    elif answer ==\"False\":\n",
    "        print(\"Correct!\\\n",
    "        \\n14 meters is 140 decimeters, which is less than the 365 decimeter square we need to cover.\")"
   ]
  },
  {
   "cell_type": "code",
   "execution_count": 12,
   "metadata": {
    "scrolled": true
   },
   "outputs": [
    {
     "name": "stdout",
     "output_type": "stream",
     "text": [
      "Would the wallpaper cover a 470 centimeter square area?\n"
     ]
    },
    {
     "data": {
      "application/vnd.jupyter.widget-view+json": {
       "model_id": "c7d42de455ed47a894eecaf7dfb9fb45",
       "version_major": 2,
       "version_minor": 0
      },
      "text/html": [
       "<p>Failed to display Jupyter Widget of type <code>interactive</code>.</p>\n",
       "<p>\n",
       "  If you're reading this message in the Jupyter Notebook or JupyterLab Notebook, it may mean\n",
       "  that the widgets JavaScript is still loading. If this message persists, it\n",
       "  likely means that the widgets JavaScript library is either not installed or\n",
       "  not enabled. See the <a href=\"https://ipywidgets.readthedocs.io/en/stable/user_install.html\">Jupyter\n",
       "  Widgets Documentation</a> for setup instructions.\n",
       "</p>\n",
       "<p>\n",
       "  If you're reading this message in another frontend (for example, a static\n",
       "  rendering on GitHub or <a href=\"https://nbviewer.jupyter.org/\">NBViewer</a>),\n",
       "  it may mean that your frontend doesn't currently support widgets.\n",
       "</p>\n"
      ],
      "text/plain": [
       "interactive(children=(RadioButtons(description='Answer:', options=('True', 'False'), value=None), Output()), _dom_classes=('widget-interact',))"
      ]
     },
     "metadata": {},
     "output_type": "display_data"
    }
   ],
   "source": [
    "print(\"Would the wallpaper cover a 470 centimeter square area?\")\n",
    "\n",
    "@interact(answer = widgets.RadioButtons(\n",
    "    options=['True', 'False'],\n",
    "    description='Answer:',\n",
    "    value = None,\n",
    "    disabled=False\n",
    "))\n",
    "\n",
    "def reflective_angle_question(answer):\n",
    "    if answer==\"True\":\n",
    "        print(\"Correct!\\\n",
    "        \\n14 meters is 1400 centimeters, which is longer than the 470 centimeter square we need to cover.\")\n",
    "        \n",
    "    elif answer ==\"False\":\n",
    "        print(\"Incorrect.\\\n",
    "        \\nRemember, going from meters to centimeters is going down 2 steps.\")"
   ]
  },
  {
   "cell_type": "code",
   "execution_count": 13,
   "metadata": {},
   "outputs": [
    {
     "name": "stdout",
     "output_type": "stream",
     "text": [
      "Would the wallpaper cover a 0.14 hectometer square area?\n"
     ]
    },
    {
     "data": {
      "application/vnd.jupyter.widget-view+json": {
       "model_id": "89c2c6616f63461ab13d0c160b11459a",
       "version_major": 2,
       "version_minor": 0
      },
      "text/html": [
       "<p>Failed to display Jupyter Widget of type <code>interactive</code>.</p>\n",
       "<p>\n",
       "  If you're reading this message in the Jupyter Notebook or JupyterLab Notebook, it may mean\n",
       "  that the widgets JavaScript is still loading. If this message persists, it\n",
       "  likely means that the widgets JavaScript library is either not installed or\n",
       "  not enabled. See the <a href=\"https://ipywidgets.readthedocs.io/en/stable/user_install.html\">Jupyter\n",
       "  Widgets Documentation</a> for setup instructions.\n",
       "</p>\n",
       "<p>\n",
       "  If you're reading this message in another frontend (for example, a static\n",
       "  rendering on GitHub or <a href=\"https://nbviewer.jupyter.org/\">NBViewer</a>),\n",
       "  it may mean that your frontend doesn't currently support widgets.\n",
       "</p>\n"
      ],
      "text/plain": [
       "interactive(children=(RadioButtons(description='Answer:', options=('True', 'False'), value=None), Output()), _dom_classes=('widget-interact',))"
      ]
     },
     "metadata": {},
     "output_type": "display_data"
    }
   ],
   "source": [
    "print(\"Would the wallpaper cover a 0.14 hectometer square area?\")\n",
    "\n",
    "@interact(answer = widgets.RadioButtons(\n",
    "    options=['True', 'False'],\n",
    "    description='Answer:',\n",
    "    value = None,\n",
    "    disabled=False\n",
    "))\n",
    "\n",
    "def reflective_angle_question(answer):\n",
    "    if answer==\"True\":\n",
    "        print(\"Correct!\\\n",
    "        \\n14 meters is 0.14 hectometers, which is the same length as the square we need to cover.\")\n",
    "        \n",
    "    elif answer ==\"False\":\n",
    "        print(\"Incorrect.\\\n",
    "        \\nRemember, going from meters to hectometers is going up 2 steps.\")"
   ]
  },
  {
   "cell_type": "code",
   "execution_count": 14,
   "metadata": {},
   "outputs": [
    {
     "name": "stdout",
     "output_type": "stream",
     "text": [
      "Would the wallpaper cover a 0.02 kilometer square area?\n"
     ]
    },
    {
     "data": {
      "application/vnd.jupyter.widget-view+json": {
       "model_id": "f9302d8a7c7f4885827cecdce40ac36a",
       "version_major": 2,
       "version_minor": 0
      },
      "text/html": [
       "<p>Failed to display Jupyter Widget of type <code>interactive</code>.</p>\n",
       "<p>\n",
       "  If you're reading this message in the Jupyter Notebook or JupyterLab Notebook, it may mean\n",
       "  that the widgets JavaScript is still loading. If this message persists, it\n",
       "  likely means that the widgets JavaScript library is either not installed or\n",
       "  not enabled. See the <a href=\"https://ipywidgets.readthedocs.io/en/stable/user_install.html\">Jupyter\n",
       "  Widgets Documentation</a> for setup instructions.\n",
       "</p>\n",
       "<p>\n",
       "  If you're reading this message in another frontend (for example, a static\n",
       "  rendering on GitHub or <a href=\"https://nbviewer.jupyter.org/\">NBViewer</a>),\n",
       "  it may mean that your frontend doesn't currently support widgets.\n",
       "</p>\n"
      ],
      "text/plain": [
       "interactive(children=(RadioButtons(description='Answer:', options=('True', 'False'), value=None), Output()), _dom_classes=('widget-interact',))"
      ]
     },
     "metadata": {},
     "output_type": "display_data"
    }
   ],
   "source": [
    "print(\"Would the wallpaper cover a 0.02 kilometer square area?\")\n",
    "\n",
    "@interact(answer = widgets.RadioButtons(\n",
    "    options=['True', 'False'],\n",
    "    description='Answer:',\n",
    "    value = None,\n",
    "    disabled=False\n",
    "))\n",
    "\n",
    "def reflective_angle_question(answer):\n",
    "    if answer==\"True\":\n",
    "        print(\"Incorrect!\\\n",
    "        \\nRemember, going from meters to kilometers is going up 3 steps.\")\n",
    "        \n",
    "    elif answer ==\"False\":\n",
    "        print(\"Correct!\\\n",
    "        \\n14 meters is 0.014 kilometers, which is less than the 0.02 kilometer square we need to cover.\")"
   ]
  },
  {
   "cell_type": "code",
   "execution_count": 15,
   "metadata": {},
   "outputs": [
    {
     "data": {
      "application/vnd.jupyter.widget-view+json": {
       "model_id": "44f0938b4222466c95d6c5e3261dd3e4",
       "version_major": 2,
       "version_minor": 0
      },
      "text/html": [
       "<p>Failed to display Jupyter Widget of type <code>BoundedFloatText</code>.</p>\n",
       "<p>\n",
       "  If you're reading this message in the Jupyter Notebook or JupyterLab Notebook, it may mean\n",
       "  that the widgets JavaScript is still loading. If this message persists, it\n",
       "  likely means that the widgets JavaScript library is either not installed or\n",
       "  not enabled. See the <a href=\"https://ipywidgets.readthedocs.io/en/stable/user_install.html\">Jupyter\n",
       "  Widgets Documentation</a> for setup instructions.\n",
       "</p>\n",
       "<p>\n",
       "  If you're reading this message in another frontend (for example, a static\n",
       "  rendering on GitHub or <a href=\"https://nbviewer.jupyter.org/\">NBViewer</a>),\n",
       "  it may mean that your frontend doesn't currently support widgets.\n",
       "</p>\n"
      ],
      "text/plain": [
       "BoundedFloatText(value=0.0, description='Measurement Value:', max=9999.0, style=DescriptionStyle(description_width='initial'))"
      ]
     },
     "metadata": {},
     "output_type": "display_data"
    },
    {
     "data": {
      "application/vnd.jupyter.widget-view+json": {
       "model_id": "bb165d857ead4533af0570eaed5c222d",
       "version_major": 2,
       "version_minor": 0
      },
      "text/html": [
       "<p>Failed to display Jupyter Widget of type <code>SelectionSlider</code>.</p>\n",
       "<p>\n",
       "  If you're reading this message in the Jupyter Notebook or JupyterLab Notebook, it may mean\n",
       "  that the widgets JavaScript is still loading. If this message persists, it\n",
       "  likely means that the widgets JavaScript library is either not installed or\n",
       "  not enabled. See the <a href=\"https://ipywidgets.readthedocs.io/en/stable/user_install.html\">Jupyter\n",
       "  Widgets Documentation</a> for setup instructions.\n",
       "</p>\n",
       "<p>\n",
       "  If you're reading this message in another frontend (for example, a static\n",
       "  rendering on GitHub or <a href=\"https://nbviewer.jupyter.org/\">NBViewer</a>),\n",
       "  it may mean that your frontend doesn't currently support widgets.\n",
       "</p>\n"
      ],
      "text/plain": [
       "SelectionSlider(description='Initial Measurement:', options=('Kilometers', 'Hectometers', 'Decameters', 'Meters', 'Decimeters', 'Centimeters', 'Millimeters'), style=DescriptionStyle(description_width='initial'), value='Kilometers')"
      ]
     },
     "metadata": {},
     "output_type": "display_data"
    },
    {
     "data": {
      "application/vnd.jupyter.widget-view+json": {
       "model_id": "90f388da42354f5083532dabda12b5a6",
       "version_major": 2,
       "version_minor": 0
      },
      "text/html": [
       "<p>Failed to display Jupyter Widget of type <code>SelectionSlider</code>.</p>\n",
       "<p>\n",
       "  If you're reading this message in the Jupyter Notebook or JupyterLab Notebook, it may mean\n",
       "  that the widgets JavaScript is still loading. If this message persists, it\n",
       "  likely means that the widgets JavaScript library is either not installed or\n",
       "  not enabled. See the <a href=\"https://ipywidgets.readthedocs.io/en/stable/user_install.html\">Jupyter\n",
       "  Widgets Documentation</a> for setup instructions.\n",
       "</p>\n",
       "<p>\n",
       "  If you're reading this message in another frontend (for example, a static\n",
       "  rendering on GitHub or <a href=\"https://nbviewer.jupyter.org/\">NBViewer</a>),\n",
       "  it may mean that your frontend doesn't currently support widgets.\n",
       "</p>\n"
      ],
      "text/plain": [
       "SelectionSlider(description='Final Measurement:', options=('Kilometers', 'Hectometers', 'Decameters', 'Meters', 'Decimeters', 'Centimeters', 'Millimeters'), style=DescriptionStyle(description_width='initial'), value='Kilometers')"
      ]
     },
     "metadata": {},
     "output_type": "display_data"
    }
   ],
   "source": [
    "from ipywidgets import interact_manual,widgets\n",
    "from IPython.display import display\n",
    "\n",
    "#List of all possible measurement types.\n",
    "MeasureList = ['Kilometers', 'Hectometers', 'Decameters', 'Meters', \\\n",
    "               'Decimeters', 'Centimeters', 'Millimeters']\n",
    "\n",
    "#Used to ensure the description text doesn't get cut off.\n",
    "style = {'description_width': 'initial'}\n",
    "\n",
    "#Let user choose the final measurement. \n",
    "#Bounded between 0 and 9999 to make sure it's positive.\n",
    "initVal = widgets.BoundedFloatText(value = 0, \\\n",
    "                                   min = 0, \\\n",
    "                                   max = 9999, \\\n",
    "                                   description = 'Measurement Value:', \\\n",
    "                                   style = style)\n",
    "\n",
    "#Let user choose the initial measurement.\n",
    "initMeas = widgets.SelectionSlider(options = MeasureList, \\\n",
    "                                   value = 'Kilometers', \\\n",
    "                                   description = 'Initial Measurement:', \\\n",
    "                                   style = style)\n",
    "\n",
    "#Let user choose the final measurement.\n",
    "finMeas = widgets.SelectionSlider(options = MeasureList, \\\n",
    "                                  value = 'Kilometers', \\\n",
    "                                  description = 'Final Measurement:', \\\n",
    "                                  style = style)\n",
    "\n",
    "#Displaying all the previously created widgets in order.\n",
    "display(initVal)\n",
    "display(initMeas)\n",
    "display(finMeas)"
   ]
  },
  {
   "cell_type": "code",
   "execution_count": 16,
   "metadata": {},
   "outputs": [
    {
     "data": {
      "application/vnd.jupyter.widget-view+json": {
       "model_id": "e6cd913e92524e9eb8e811a4b77f5b1c",
       "version_major": 2,
       "version_minor": 0
      },
      "text/html": [
       "<p>Failed to display Jupyter Widget of type <code>Button</code>.</p>\n",
       "<p>\n",
       "  If you're reading this message in the Jupyter Notebook or JupyterLab Notebook, it may mean\n",
       "  that the widgets JavaScript is still loading. If this message persists, it\n",
       "  likely means that the widgets JavaScript library is either not installed or\n",
       "  not enabled. See the <a href=\"https://ipywidgets.readthedocs.io/en/stable/user_install.html\">Jupyter\n",
       "  Widgets Documentation</a> for setup instructions.\n",
       "</p>\n",
       "<p>\n",
       "  If you're reading this message in another frontend (for example, a static\n",
       "  rendering on GitHub or <a href=\"https://nbviewer.jupyter.org/\">NBViewer</a>),\n",
       "  it may mean that your frontend doesn't currently support widgets.\n",
       "</p>\n"
      ],
      "text/plain": [
       "Button(description='Calculate', style=ButtonStyle())"
      ]
     },
     "metadata": {},
     "output_type": "display_data"
    }
   ],
   "source": [
    "from ipywidgets import interact_manual,widgets\n",
    "from IPython.display import display\n",
    "\n",
    "#\"MeasureDict\" assigns a numeric value to each of the units of measurement. This will help us to calculate\n",
    "# going from one unit to another.\n",
    "MeasureDict = {'Kilometers' : 7, 'Hectometers': 6, 'Decameters': 5,\\\n",
    "               'Meters': 4, 'Decimeters': 3, 'Centimeters': 2, 'Millimeters': 1}\n",
    "\n",
    "#\"calculate_final\" will determine what the final value obtained from the new measurement type.\n",
    "def calculate_final(initV, initM, finM):\n",
    "    \n",
    "    #Create the global value finV. This will store the final measurement value.\n",
    "    global finV\n",
    "    \n",
    "    #Find the difference, (diff), between initM and finM and store it in diff. Two cases exist:\n",
    "    #  1. diff is less than or equal to 0:\n",
    "    #     In this case the final measurement type is smaller than or equal to the initial measurement type.\n",
    "    #     Therefore, must divide by 10 |diff| amount of times, (Or simply multiply 10 ** diff)\n",
    "    #\n",
    "    #  2. diff is greater than 0:\n",
    "    #     In this case the final measurement type is greater than or equal to the final measurement type.\n",
    "    #     Therefore, must multiply by 10 diff amount of times, (Or simply multiply 10 ** diff)\n",
    "    #\n",
    "    #Thus, we can use 10**diff as it works for both cases.\n",
    "    diff = initM - finM\n",
    "    finV = initV * 10**diff\n",
    "\n",
    "#Create a button to calculate the change in measurement.\n",
    "button = widgets.Button(description=\"Calculate\")\n",
    "display(button)\n",
    "\n",
    "def on_button_clicked(b):\n",
    "    #Get the initial value inputed as an integer.\n",
    "    initV = initVal.value\n",
    "    \n",
    "    #Get the initial measurement inputed as a string.\n",
    "    initM = initMeas.value\n",
    "    \n",
    "    #Get the final measurement inputed as a string.\n",
    "    finM = finMeas.value\n",
    "    \n",
    "    #Get the key value of the initial measurement type.\n",
    "    initMeasKey = MeasureDict.get(initM)\n",
    "\n",
    "    #Get the key value of the final measurement type.\n",
    "    finMeasKey = MeasureDict.get(finM)\n",
    "\n",
    "    #Calculate the final value.\n",
    "    calculate_final(initV, initMeasKey, finMeasKey)\n",
    "\n",
    "    print(\"Your initial measurement of \" + str(initV) + \" \" + initM + \\\n",
    "          \" becomes \" + str(finV) + \" \" + finM + \".\")\n",
    "\n",
    "button.on_click(on_button_clicked)"
   ]
  },
  {
   "cell_type": "code",
   "execution_count": 42,
   "metadata": {},
   "outputs": [
    {
     "data": {
      "text/html": [
       "<h1 align='center'> Exercises </h1>"
      ],
      "text/plain": [
       "<IPython.core.display.HTML object>"
      ]
     },
     "metadata": {},
     "output_type": "display_data"
    }
   ],
   "source": [
    "%%html\n",
    "<h1 align='center'> Exercises </h1>"
   ]
  },
  {
   "cell_type": "markdown",
   "metadata": {},
   "source": [
    "## Question 3\n",
    "\n",
    "You view the following **rectangle** from the black circle:"
   ]
  },
  {
   "cell_type": "markdown",
   "metadata": {},
   "source": [
    "<img src=\"files/Question3.png\">"
   ]
  },
  {
   "cell_type": "code",
   "execution_count": 17,
   "metadata": {},
   "outputs": [
    {
     "name": "stdout",
     "output_type": "stream",
     "text": [
      "What is the height? (Give the value in DECAMETERS)\n"
     ]
    },
    {
     "data": {
      "application/vnd.jupyter.widget-view+json": {
       "model_id": "ffd686c428ae4927b65f56c52bd9bb89",
       "version_major": 2,
       "version_minor": 0
      },
      "text/html": [
       "<p>Failed to display Jupyter Widget of type <code>interactive</code>.</p>\n",
       "<p>\n",
       "  If you're reading this message in the Jupyter Notebook or JupyterLab Notebook, it may mean\n",
       "  that the widgets JavaScript is still loading. If this message persists, it\n",
       "  likely means that the widgets JavaScript library is either not installed or\n",
       "  not enabled. See the <a href=\"https://ipywidgets.readthedocs.io/en/stable/user_install.html\">Jupyter\n",
       "  Widgets Documentation</a> for setup instructions.\n",
       "</p>\n",
       "<p>\n",
       "  If you're reading this message in another frontend (for example, a static\n",
       "  rendering on GitHub or <a href=\"https://nbviewer.jupyter.org/\">NBViewer</a>),\n",
       "  it may mean that your frontend doesn't currently support widgets.\n",
       "</p>\n"
      ],
      "text/plain": [
       "interactive(children=(FloatText(value=0.0, description='Answer: '), Output()), _dom_classes=('widget-interact',))"
      ]
     },
     "metadata": {},
     "output_type": "display_data"
    }
   ],
   "source": [
    "from ipywidgets import interact_manual,widgets\n",
    "\n",
    "print(\"What is the height? (Give the value in DECAMETERS)\")\n",
    "       \n",
    "@interact(answer =widgets.FloatText(\n",
    "    value=0,\n",
    "    description='Answer: ',\n",
    "    disabled=False\n",
    "))\n",
    "\n",
    "def reflective_angle_question(answer):\n",
    "    if answer == 1.24:\n",
    "        print(\"Correct!\\\n",
    "        \\nThe height is equal to 12.4 meters. \\\n",
    "        \\nThen, we divide the height by 10 to get 1.24 decameters.\")\n",
    "    \n",
    "    elif answer == 0:\n",
    "        print(\"Type the height of the rectangle.\")\n",
    "        \n",
    "    else:\n",
    "        print(\"Incorrect.\\\n",
    "        \\nRemember, in this question we want the value in decameters. \\\n",
    "        \\nTry using the length to the from the bottom to the top of the rectangle.\")"
   ]
  },
  {
   "cell_type": "code",
   "execution_count": 18,
   "metadata": {},
   "outputs": [
    {
     "name": "stdout",
     "output_type": "stream",
     "text": [
      "What is the width? (Give the value in CENTIMETERS)\n"
     ]
    },
    {
     "data": {
      "application/vnd.jupyter.widget-view+json": {
       "model_id": "391fdc45f1bd4c579a02755dab1aa715",
       "version_major": 2,
       "version_minor": 0
      },
      "text/html": [
       "<p>Failed to display Jupyter Widget of type <code>interactive</code>.</p>\n",
       "<p>\n",
       "  If you're reading this message in the Jupyter Notebook or JupyterLab Notebook, it may mean\n",
       "  that the widgets JavaScript is still loading. If this message persists, it\n",
       "  likely means that the widgets JavaScript library is either not installed or\n",
       "  not enabled. See the <a href=\"https://ipywidgets.readthedocs.io/en/stable/user_install.html\">Jupyter\n",
       "  Widgets Documentation</a> for setup instructions.\n",
       "</p>\n",
       "<p>\n",
       "  If you're reading this message in another frontend (for example, a static\n",
       "  rendering on GitHub or <a href=\"https://nbviewer.jupyter.org/\">NBViewer</a>),\n",
       "  it may mean that your frontend doesn't currently support widgets.\n",
       "</p>\n"
      ],
      "text/plain": [
       "interactive(children=(FloatText(value=0.0, description='Answer: '), Output()), _dom_classes=('widget-interact',))"
      ]
     },
     "metadata": {},
     "output_type": "display_data"
    }
   ],
   "source": [
    "from ipywidgets import interact_manual,widgets\n",
    "\n",
    "print(\"What is the width? (Give the value in CENTIMETERS)\")\n",
    "       \n",
    "@interact(answer =widgets.FloatText(\n",
    "    value=0,\n",
    "    description='Answer: ',\n",
    "    disabled=False\n",
    "))\n",
    "\n",
    "def reflective_angle_question(answer):\n",
    "    if answer == 660:\n",
    "        print(\"Correct!\\\n",
    "        \\nThe width is equal to 6.6 meters. \\\n",
    "        \\nThen, we multiply the width by 100 to get 660 centimeters.\")\n",
    "    \n",
    "    elif answer == 0:\n",
    "        print(\"Type the width of the rectangle.\")\n",
    "        \n",
    "    else:\n",
    "        print(\"Incorrect.\\\n",
    "        \\nRemember, in this question we want the value in centimeters. \\\n",
    "        \\nTry using the length at the bottom of the rectangle.\")"
   ]
  },
  {
   "cell_type": "code",
   "execution_count": 19,
   "metadata": {},
   "outputs": [
    {
     "name": "stdout",
     "output_type": "stream",
     "text": [
      "What is the depth of the rectangle? (Give the value in HECTOMETERS)\n"
     ]
    },
    {
     "data": {
      "application/vnd.jupyter.widget-view+json": {
       "model_id": "089fc5756c274260bf63786386a34095",
       "version_major": 2,
       "version_minor": 0
      },
      "text/html": [
       "<p>Failed to display Jupyter Widget of type <code>interactive</code>.</p>\n",
       "<p>\n",
       "  If you're reading this message in the Jupyter Notebook or JupyterLab Notebook, it may mean\n",
       "  that the widgets JavaScript is still loading. If this message persists, it\n",
       "  likely means that the widgets JavaScript library is either not installed or\n",
       "  not enabled. See the <a href=\"https://ipywidgets.readthedocs.io/en/stable/user_install.html\">Jupyter\n",
       "  Widgets Documentation</a> for setup instructions.\n",
       "</p>\n",
       "<p>\n",
       "  If you're reading this message in another frontend (for example, a static\n",
       "  rendering on GitHub or <a href=\"https://nbviewer.jupyter.org/\">NBViewer</a>),\n",
       "  it may mean that your frontend doesn't currently support widgets.\n",
       "</p>\n"
      ],
      "text/plain": [
       "interactive(children=(FloatText(value=0.0, description='Answer: '), Output()), _dom_classes=('widget-interact',))"
      ]
     },
     "metadata": {},
     "output_type": "display_data"
    }
   ],
   "source": [
    "from ipywidgets import interact_manual,widgets\n",
    "\n",
    "print(\"What is the depth of the rectangle? (Give the value in HECTOMETERS)\")\n",
    "       \n",
    "@interact(answer =widgets.FloatText(\n",
    "    value=0,\n",
    "    description='Answer: ',\n",
    "    disabled=False\n",
    "))\n",
    "\n",
    "def reflective_angle_question(answer):\n",
    "    if answer == 0.034:\n",
    "        print(\"Correct!\\\n",
    "        \\nThe depth is equal to 3.4 meters. \\\n",
    "        \\nThen, we divide the depth by 100 to get 0.034 hectometers.\")\n",
    "    \n",
    "    elif answer == 0:\n",
    "        print(\"Type the width of the rectangle.\")\n",
    "        \n",
    "    else:\n",
    "        print(\"Incorrect.\\\n",
    "        \\nRemember, in this question we want the value in hectometers. \\\n",
    "        \\nTry using the length at the side of the rectangle.\")"
   ]
  },
  {
   "cell_type": "code",
   "execution_count": 102,
   "metadata": {
    "scrolled": true
   },
   "outputs": [
    {
     "data": {
      "text/html": [
       "<h1 align='center'> Summary </h1>"
      ],
      "text/plain": [
       "<IPython.core.display.HTML object>"
      ]
     },
     "metadata": {},
     "output_type": "display_data"
    }
   ],
   "source": [
    "%%html\n",
    "<h1 align='center'> Summary </h1>"
   ]
  },
  {
   "cell_type": "markdown",
   "metadata": {
    "slideshow": {
     "slide_type": "slide"
    }
   },
   "source": [
    "This notebook will hopefully have taught you how to find the metric measurements that go between **millimetres** to **kilometres**, as well as put the previous knowledge of shapes to use."
   ]
  },
  {
   "cell_type": "code",
   "execution_count": null,
   "metadata": {},
   "outputs": [],
   "source": []
  }
 ],
 "metadata": {
  "kernelspec": {
   "display_name": "Python 3",
   "language": "python",
   "name": "python3"
  },
  "language_info": {
   "codemirror_mode": {
    "name": "ipython",
    "version": 3
   },
   "file_extension": ".py",
   "mimetype": "text/x-python",
   "name": "python",
   "nbconvert_exporter": "python",
   "pygments_lexer": "ipython3",
   "version": "3.6.5"
  }
 },
 "nbformat": 4,
 "nbformat_minor": 2
}
