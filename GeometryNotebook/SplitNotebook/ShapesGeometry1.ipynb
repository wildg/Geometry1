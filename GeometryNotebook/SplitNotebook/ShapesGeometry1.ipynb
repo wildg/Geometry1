{
 "cells": [
  {
   "cell_type": "code",
   "execution_count": 3,
   "metadata": {},
   "outputs": [
    {
     "data": {
      "text/html": [
       "<script>\n",
       "code_show=true; \n",
       "function code_toggle() {\n",
       " if (code_show){\n",
       " $('div.input').hide();\n",
       " } else {\n",
       " $('div.input').show();\n",
       " }\n",
       " code_show = !code_show\n",
       "} \n",
       "$( document ).ready(code_toggle);\n",
       "</script>\n",
       "The raw code for this IPython notebook is by default hidden for easier reading.\n",
       "To toggle on/off the raw code, click <a href=\"javascript:code_toggle()\">here</a>."
      ],
      "text/plain": [
       "<IPython.core.display.HTML object>"
      ]
     },
     "execution_count": 3,
     "metadata": {},
     "output_type": "execute_result"
    }
   ],
   "source": [
    "from IPython.display import HTML\n",
    "HTML('''<script>\n",
    "code_show=true; \n",
    "function code_toggle() {\n",
    " if (code_show){\n",
    " $('div.input').hide();\n",
    " } else {\n",
    " $('div.input').show();\n",
    " }\n",
    " code_show = !code_show\n",
    "} \n",
    "$( document ).ready(code_toggle);\n",
    "</script>\n",
    "The raw code for this IPython notebook is by default hidden for easier reading.\n",
    "To toggle on/off the raw code, click <a href=\"javascript:code_toggle()\">here</a>.''')"
   ]
  },
  {
   "cell_type": "code",
   "execution_count": 6,
   "metadata": {},
   "outputs": [
    {
     "data": {
      "text/html": [
       "<style>\n",
       ".output_wrapper button.btn.btn-default,\n",
       ".output_wrapper .ui-dialog-titlebar {\n",
       "  display: none;\n",
       "}\n",
       "</style>"
      ],
      "text/plain": [
       "<IPython.core.display.HTML object>"
      ]
     },
     "metadata": {},
     "output_type": "display_data"
    }
   ],
   "source": [
    "%%html\n",
    "<style>\n",
    ".output_wrapper button.btn.btn-default,\n",
    ".output_wrapper .ui-dialog-titlebar {\n",
    "  display: none;\n",
    "}\n",
    "</style>"
   ]
  },
  {
   "cell_type": "markdown",
   "metadata": {},
   "source": [
    "![alt text](https://github.com/callysto/callysto-sample-notebooks/blob/master/notebooks/images/Callysto_Notebook-Banner_Top_06.06.18.jpg?raw=true)  \n"
   ]
  },
  {
   "cell_type": "code",
   "execution_count": 4,
   "metadata": {},
   "outputs": [
    {
     "data": {
      "text/html": [
       "<h1 align='center'>Geometry Basics 1 - Shapes</h1>\n",
       "\n",
       "<h4 align='center'>Grade 8 | Mathematics</h4>"
      ],
      "text/plain": [
       "<IPython.core.display.HTML object>"
      ]
     },
     "metadata": {},
     "output_type": "display_data"
    }
   ],
   "source": [
    "%%html\n",
    "<h1 align='center'>Geometry Basics 1 - Shapes</h1>\n",
    "\n",
    "<h4 align='center'>Grade 8 | Mathematics</h4>"
   ]
  },
  {
   "cell_type": "code",
   "execution_count": 7,
   "metadata": {},
   "outputs": [],
   "source": [
    "import matplotlib.pyplot as plt\n",
    "import ipywidgets\n",
    "from ipywidgets import widgets, interact, interact_manual, Button, Layout\n",
    "from IPython.display import Javascript, display"
   ]
  },
  {
   "cell_type": "markdown",
   "metadata": {},
   "source": [
    "Geometry is one of the most valuable topics of everyday life. It has relevance in driving, cooking, drawing, organizing, decorating, building, and a variety of other activities. It is also incredibly instinctive to human beings. Even babies use geometrical reasoning when deciding that circular pieces fit into circular holes, or that square pieces fit in square holes. So, one should think of this notebook as describing the math behind these natural activities.\n",
    "\n",
    "In this notebook, you will learn how to define and explain length, width, height, depth, thickness, perimeter and circumference. This notebook will also connect to another notebook that explains the metric units such as millimeters, centimeters, meters, and kilometers. These topics will be taught through visual aids and interactive models."
   ]
  },
  {
   "cell_type": "markdown",
   "metadata": {},
   "source": [
    "## Background On Shapes\n",
    "To begin our descriptions of geometric objects, we will first have to decide the way in which the shapes apear:\n",
    "\n",
    "## Two Dimensions\n",
    "In this case, objects appear flat. The following shapes illustrate this idea:"
   ]
  },
  {
   "cell_type": "markdown",
   "metadata": {},
   "source": [
    "<img src=\"files/2dObjectsEmpty.png\">"
   ]
  },
  {
   "cell_type": "markdown",
   "metadata": {},
   "source": [
    "While these objects may seem very simple, they are a good way to introduce *length*, *width*, *perimeter*, and *circumference*. "
   ]
  },
  {
   "cell_type": "markdown",
   "metadata": {},
   "source": [
    "## Length and Width\n",
    "The **length** of some **rectangle** is the *longest* side, (Or *edge*), of it. However, the **width**, is the *shortest* side of a **rectangle**. A useful way to remember this is to think of **L**ength as **L**ong.\n",
    "\n",
    "We can label the rectangular shape with its length and width:"
   ]
  },
  {
   "cell_type": "markdown",
   "metadata": {},
   "source": [
    "<img src=\"files/2dObjectsRectangles.png\">"
   ]
  },
  {
   "cell_type": "markdown",
   "metadata": {},
   "source": [
    "Now, you may be wondering, \"How do we fill out the **length** and **witdth** of a **square**, where all sides are equal?\" Well, because all sides are equal, this means that length and width are *interchangeable* so we can have either of the following:"
   ]
  },
  {
   "cell_type": "markdown",
   "metadata": {},
   "source": [
    "<img src=\"files/2dObjectsAllSquares.png\">"
   ]
  },
  {
   "cell_type": "markdown",
   "metadata": {},
   "source": [
    "Thus, we've found the **width** and **length** of all the rectangular shapes:"
   ]
  },
  {
   "cell_type": "markdown",
   "metadata": {},
   "source": [
    "<img src=\"files/2dObjectsSquares.png\">"
   ]
  },
  {
   "cell_type": "markdown",
   "metadata": {},
   "source": [
    "### Practice Question 1\n",
    "\n",
    "Given the following **rectangle**:"
   ]
  },
  {
   "cell_type": "markdown",
   "metadata": {},
   "source": [
    "<img src=\"files/PracticeQuestion1.png\">"
   ]
  },
  {
   "cell_type": "code",
   "execution_count": 8,
   "metadata": {
    "scrolled": true
   },
   "outputs": [
    {
     "name": "stdout",
     "output_type": "stream",
     "text": [
      "Which edge is the width?\n"
     ]
    },
    {
     "data": {
      "application/vnd.jupyter.widget-view+json": {
       "model_id": "6e5979b23d2047e6807a4eb89071b9e9",
       "version_major": 2,
       "version_minor": 0
      },
      "text/html": [
       "<p>Failed to display Jupyter Widget of type <code>interactive</code>.</p>\n",
       "<p>\n",
       "  If you're reading this message in the Jupyter Notebook or JupyterLab Notebook, it may mean\n",
       "  that the widgets JavaScript is still loading. If this message persists, it\n",
       "  likely means that the widgets JavaScript library is either not installed or\n",
       "  not enabled. See the <a href=\"https://ipywidgets.readthedocs.io/en/stable/user_install.html\">Jupyter\n",
       "  Widgets Documentation</a> for setup instructions.\n",
       "</p>\n",
       "<p>\n",
       "  If you're reading this message in another frontend (for example, a static\n",
       "  rendering on GitHub or <a href=\"https://nbviewer.jupyter.org/\">NBViewer</a>),\n",
       "  it may mean that your frontend doesn't currently support widgets.\n",
       "</p>\n"
      ],
      "text/plain": [
       "interactive(children=(RadioButtons(description='Answer: ', options=('A', 'B'), value=None), Output()), _dom_classes=('widget-interact',))"
      ]
     },
     "metadata": {},
     "output_type": "display_data"
    }
   ],
   "source": [
    "from ipywidgets import interact_manual,widgets\n",
    "\n",
    "print(\"Which edge is the width?\")\n",
    "        \n",
    "@interact(answer =widgets.RadioButtons(\n",
    "                    options=[\"A\", \"B\"],\n",
    "                    value=None,\n",
    "                    description=\"Answer: \",\n",
    "                    disabled=False\n",
    "))\n",
    "\n",
    "def reflective_angle_question(answer):\n",
    "    if answer==\"A\":\n",
    "        print(\"Correct!\\\n",
    "        \\nThe width is the shortest side.\")\n",
    "        \n",
    "    elif answer ==\"B\":\n",
    "        print(\"Incorrect.\\\n",
    "        \\nRemember, the width depends on how long a side is.\")"
   ]
  },
  {
   "cell_type": "markdown",
   "metadata": {},
   "source": [
    "## Perimeter\n",
    "\n",
    "With this information we can now find the perimeter of a **rectangle** or **square**. The perimeter is simply the total length of all sides of a **rectangular shape**.\n",
    "\n",
    "To find the **perimeter** of a **rectangle**, one must *add all the sides* together. The formula for this looks like:"
   ]
  },
  {
   "cell_type": "code",
   "execution_count": 15,
   "metadata": {
    "scrolled": true
   },
   "outputs": [
    {
     "data": {
      "text/html": [
       "<h3 align='center'>$\\ (Length) + (Length) + (Width) + (Width) = (Perimeter) $</h3>"
      ],
      "text/plain": [
       "<IPython.core.display.HTML object>"
      ]
     },
     "metadata": {},
     "output_type": "display_data"
    }
   ],
   "source": [
    "%%html\n",
    "<h3 align='center'>$\\ (Length) + (Length) + (Width) + (Width) = (Perimeter) $</h3>"
   ]
  },
  {
   "cell_type": "markdown",
   "metadata": {},
   "source": [
    "However, since we know that:"
   ]
  },
  {
   "cell_type": "code",
   "execution_count": 21,
   "metadata": {
    "scrolled": false
   },
   "outputs": [
    {
     "data": {
      "text/html": [
       "<h3 align='center'>$\\ (Length) + (Length) = 2 \\times (Length) $</h3>"
      ],
      "text/plain": [
       "<IPython.core.display.HTML object>"
      ]
     },
     "metadata": {},
     "output_type": "display_data"
    }
   ],
   "source": [
    "%%html\n",
    "<h3 align='center'>$\\ (Length) + (Length) = 2 \\times (Length) $</h3>"
   ]
  },
  {
   "cell_type": "markdown",
   "metadata": {},
   "source": [
    "And that:"
   ]
  },
  {
   "cell_type": "code",
   "execution_count": 20,
   "metadata": {
    "scrolled": false
   },
   "outputs": [
    {
     "data": {
      "text/html": [
       "<h3 align='center'>$\\ (Width) + (Width) = 2 \\times (Width) $</h3>"
      ],
      "text/plain": [
       "<IPython.core.display.HTML object>"
      ]
     },
     "metadata": {},
     "output_type": "display_data"
    }
   ],
   "source": [
    "%%html\n",
    "<h3 align='center'>$\\ (Width) + (Width) = 2 \\times (Width) $</h3>"
   ]
  },
  {
   "cell_type": "markdown",
   "metadata": {},
   "source": [
    "We can simplify the formula to look like:"
   ]
  },
  {
   "cell_type": "code",
   "execution_count": 19,
   "metadata": {
    "scrolled": true
   },
   "outputs": [
    {
     "data": {
      "text/html": [
       "<h3 align='center'>$\\ 2 \\times (Width) + 2 \\times (Length) = (Perimeter) $</h3>"
      ],
      "text/plain": [
       "<IPython.core.display.HTML object>"
      ]
     },
     "metadata": {},
     "output_type": "display_data"
    }
   ],
   "source": [
    "%%html\n",
    "<h3 align='center'>$\\ 2 \\times (Width) + 2 \\times (Length) = (Perimeter) $</h3>"
   ]
  },
  {
   "cell_type": "markdown",
   "metadata": {},
   "source": [
    "Now, we have a simplified formula for finding the perimeter of any **rectangle**. \n",
    "\n",
    "Finding the **perimeter** of any **square** is even simpler since we know that all sides have equal length. Therefore, the formula is even simpler. You can either do:"
   ]
  },
  {
   "cell_type": "code",
   "execution_count": 14,
   "metadata": {},
   "outputs": [
    {
     "data": {
      "text/html": [
       "<h3 align='center'>$\\ 4 \\times (Width) = (Perimeter) $</h3>"
      ],
      "text/plain": [
       "<IPython.core.display.HTML object>"
      ]
     },
     "metadata": {},
     "output_type": "display_data"
    }
   ],
   "source": [
    "%%html\n",
    "<h3 align='center'>$\\ 4 \\times (Width) = (Perimeter) $</h3>"
   ]
  },
  {
   "cell_type": "markdown",
   "metadata": {},
   "source": [
    "Or:"
   ]
  },
  {
   "cell_type": "code",
   "execution_count": 15,
   "metadata": {
    "scrolled": true
   },
   "outputs": [
    {
     "data": {
      "text/html": [
       "<h3 align='center'>$\\ 4 \\times (Length) = (Perimeter) $</h3>"
      ],
      "text/plain": [
       "<IPython.core.display.HTML object>"
      ]
     },
     "metadata": {},
     "output_type": "display_data"
    }
   ],
   "source": [
    "%%html\n",
    "<h3 align='center'>$\\ 4 \\times (Length) = (Perimeter) $</h3>"
   ]
  },
  {
   "cell_type": "markdown",
   "metadata": {},
   "source": [
    "### Practice Question 2\n",
    "\n",
    "Given the following **rectangle**:"
   ]
  },
  {
   "cell_type": "markdown",
   "metadata": {},
   "source": [
    "<img src=\"files/PracticeQuestion2.png\">"
   ]
  },
  {
   "cell_type": "code",
   "execution_count": 9,
   "metadata": {
    "scrolled": false
   },
   "outputs": [
    {
     "name": "stdout",
     "output_type": "stream",
     "text": [
      "What is the perimeter?\n"
     ]
    },
    {
     "data": {
      "application/vnd.jupyter.widget-view+json": {
       "model_id": "2acfde4ae60640b884bb5a5df8cac3ef",
       "version_major": 2,
       "version_minor": 0
      },
      "text/html": [
       "<p>Failed to display Jupyter Widget of type <code>interactive</code>.</p>\n",
       "<p>\n",
       "  If you're reading this message in the Jupyter Notebook or JupyterLab Notebook, it may mean\n",
       "  that the widgets JavaScript is still loading. If this message persists, it\n",
       "  likely means that the widgets JavaScript library is either not installed or\n",
       "  not enabled. See the <a href=\"https://ipywidgets.readthedocs.io/en/stable/user_install.html\">Jupyter\n",
       "  Widgets Documentation</a> for setup instructions.\n",
       "</p>\n",
       "<p>\n",
       "  If you're reading this message in another frontend (for example, a static\n",
       "  rendering on GitHub or <a href=\"https://nbviewer.jupyter.org/\">NBViewer</a>),\n",
       "  it may mean that your frontend doesn't currently support widgets.\n",
       "</p>\n"
      ],
      "text/plain": [
       "interactive(children=(IntText(value=0, description='Answer: '), Output()), _dom_classes=('widget-interact',))"
      ]
     },
     "metadata": {},
     "output_type": "display_data"
    }
   ],
   "source": [
    "from ipywidgets import interact_manual,widgets\n",
    "\n",
    "print(\"What is the perimeter?\")\n",
    "       \n",
    "@interact(answer =widgets.IntText(\n",
    "    value=0,\n",
    "    description='Answer: ',\n",
    "    disabled=False\n",
    "))\n",
    "\n",
    "def reflective_angle_question(answer):\n",
    "    if answer == 12:\n",
    "        print(\"Correct!\\\n",
    "        \\nThe perimeter is 2*(2) + 2*(4), which equals 12.\")\n",
    "    \n",
    "    elif answer == 0:\n",
    "        print(\"Type the perimeter of the rectangle.\")\n",
    "        \n",
    "    else:\n",
    "        print(\"Incorrect.\\\n",
    "        \\nRemember, the formula for calulating the perimeter is 2*(width) + 2*(length).\")"
   ]
  },
  {
   "cell_type": "markdown",
   "metadata": {},
   "source": [
    "## Diameter And Radius\n",
    "\n",
    "So far we've been focusing on rectangular objects, but now we must focus on circular shapes. We should know some useful facts about circles already, like how to find the **diameter** and **radius**, but we'll do a quick refresher on the subject.\n",
    "\n",
    "To find either of these values, we begin by locating the exact middle of the circle."
   ]
  },
  {
   "cell_type": "markdown",
   "metadata": {},
   "source": [
    "<img src=\"files/CircleMiddle.png\">"
   ]
  },
  {
   "cell_type": "markdown",
   "metadata": {},
   "source": [
    "Next, if we drew a straight line from the middle to an edge of the circle, we'd get the **radius**:"
   ]
  },
  {
   "cell_type": "markdown",
   "metadata": {},
   "source": [
    "<img src=\"files/CircleRadius.png\">"
   ]
  },
  {
   "cell_type": "markdown",
   "metadata": {},
   "source": [
    "Lastly, if we drew a straight line starting from an edge of the circle to the middle, and then to another edge, we'd get the **diameter**:"
   ]
  },
  {
   "cell_type": "markdown",
   "metadata": {},
   "source": [
    "<img src=\"files/CircleDiameter.png\">"
   ]
  },
  {
   "cell_type": "markdown",
   "metadata": {},
   "source": [
    "It is also important to note that the **radius** of any circle is *half* the size of the **diameter**:"
   ]
  },
  {
   "cell_type": "code",
   "execution_count": 94,
   "metadata": {
    "scrolled": true
   },
   "outputs": [
    {
     "data": {
      "text/html": [
       "<h3 align='center'>$\\ \\frac{Diameter}{2} = (Radius) $</h3>"
      ],
      "text/plain": [
       "<IPython.core.display.HTML object>"
      ]
     },
     "metadata": {},
     "output_type": "display_data"
    }
   ],
   "source": [
    "%%html\n",
    "<h3 align='center'>$\\ \\frac{Diameter}{2} = (Radius) $</h3>"
   ]
  },
  {
   "cell_type": "markdown",
   "metadata": {},
   "source": [
    "Another way to think about the relationship between **diameter** and **radius** is that the **diameter** is *twice* the radius:"
   ]
  },
  {
   "cell_type": "code",
   "execution_count": 22,
   "metadata": {},
   "outputs": [
    {
     "data": {
      "text/html": [
       "<h3 align='center'>$\\ 2 \\times (Radius) = (Diameter) $</h3>"
      ],
      "text/plain": [
       "<IPython.core.display.HTML object>"
      ]
     },
     "metadata": {},
     "output_type": "display_data"
    }
   ],
   "source": [
    "%%html\n",
    "<h3 align='center'>$\\ 2 \\times (Radius) = (Diameter) $</h3>"
   ]
  },
  {
   "cell_type": "markdown",
   "metadata": {},
   "source": [
    "## Circumference\n",
    "\n",
    "Now that we've found the radius and the diameter, we can begin to look at how to find the **circumference** of the circle. \n",
    "\n",
    "First, we will define what the circumference actually is. The **circumference** is the total length around the circle:"
   ]
  },
  {
   "cell_type": "markdown",
   "metadata": {},
   "source": [
    "<img src=\"files/CircleCircumference.png\">"
   ]
  },
  {
   "cell_type": "markdown",
   "metadata": {},
   "source": [
    "To find the **circumference** of any circle, we first have to find either the **radius** or the **diameter**. Then, we can use either of the following formulas to calculate the circumference.\n",
    "\n",
    "If we only have the **radius**, we can use the following formula to calculate the **circumference**:"
   ]
  },
  {
   "cell_type": "code",
   "execution_count": 24,
   "metadata": {},
   "outputs": [
    {
     "data": {
      "text/html": [
       "<h3 align='center'>$\\ 2 \\times \\pi \\times (Radius) = (Circumference) $</h3>"
      ],
      "text/plain": [
       "<IPython.core.display.HTML object>"
      ]
     },
     "metadata": {},
     "output_type": "display_data"
    }
   ],
   "source": [
    "%%html\n",
    "<h3 align='center'>$\\ 2 \\times \\pi \\times (Radius) = (Circumference) $</h3>"
   ]
  },
  {
   "cell_type": "markdown",
   "metadata": {},
   "source": [
    "Otherwise, if we don't have radius and only have the **diameter**, we can use the following formula to calculate the **circumference**:"
   ]
  },
  {
   "cell_type": "code",
   "execution_count": 25,
   "metadata": {},
   "outputs": [
    {
     "data": {
      "text/html": [
       "<h3 align='center'>$\\ \\pi \\times (Diameter) = (Circumference) $</h3>"
      ],
      "text/plain": [
       "<IPython.core.display.HTML object>"
      ]
     },
     "metadata": {},
     "output_type": "display_data"
    }
   ],
   "source": [
    "%%html\n",
    "<h3 align='center'>$\\ \\pi \\times (Diameter) = (Circumference) $</h3>"
   ]
  },
  {
   "cell_type": "markdown",
   "metadata": {},
   "source": [
    "Now, we have a formula we can use to calculate the **circumference** of some circle."
   ]
  },
  {
   "cell_type": "markdown",
   "metadata": {},
   "source": [
    "### Practice Question 3\n",
    "\n",
    "Given the following **circle**:"
   ]
  },
  {
   "cell_type": "markdown",
   "metadata": {},
   "source": [
    "<img src=\"files/PracticeQuestion3.png\">"
   ]
  },
  {
   "cell_type": "code",
   "execution_count": 24,
   "metadata": {},
   "outputs": [
    {
     "name": "stdout",
     "output_type": "stream",
     "text": [
      "What is the circumference? (Round to the nearest value)\n"
     ]
    },
    {
     "data": {
      "application/vnd.jupyter.widget-view+json": {
       "model_id": "b2d2e66248f64a51b0e51a4369346049",
       "version_major": 2,
       "version_minor": 0
      },
      "text/html": [
       "<p>Failed to display Jupyter Widget of type <code>interactive</code>.</p>\n",
       "<p>\n",
       "  If you're reading this message in the Jupyter Notebook or JupyterLab Notebook, it may mean\n",
       "  that the widgets JavaScript is still loading. If this message persists, it\n",
       "  likely means that the widgets JavaScript library is either not installed or\n",
       "  not enabled. See the <a href=\"https://ipywidgets.readthedocs.io/en/stable/user_install.html\">Jupyter\n",
       "  Widgets Documentation</a> for setup instructions.\n",
       "</p>\n",
       "<p>\n",
       "  If you're reading this message in another frontend (for example, a static\n",
       "  rendering on GitHub or <a href=\"https://nbviewer.jupyter.org/\">NBViewer</a>),\n",
       "  it may mean that your frontend doesn't currently support widgets.\n",
       "</p>\n"
      ],
      "text/plain": [
       "interactive(children=(IntText(value=0, description='Answer: '), Output()), _dom_classes=('widget-interact',))"
      ]
     },
     "metadata": {},
     "output_type": "display_data"
    }
   ],
   "source": [
    "from ipywidgets import interact_manual,widgets\n",
    "\n",
    "print(\"What is the circumference? (Round to the nearest value)\")\n",
    "       \n",
    "@interact(answer =widgets.IntText(\n",
    "    value=0,\n",
    "    description='Answer: ',\n",
    "    disabled=False\n",
    "))\n",
    "\n",
    "def reflective_angle_question(answer):\n",
    "    if answer == 44:\n",
    "        print(\"Correct!\\\n",
    "        \\nThe circumference is 2 * pi * (7). This equals 43.982297... which is rounded to 44.\")\n",
    "    \n",
    "    elif answer == 0:\n",
    "        print(\"Type the circumference of the circle.\")\n",
    "        \n",
    "    else:\n",
    "        print(\"Incorrect.\\\n",
    "        \\nRemember, we are only given the radius here.\")"
   ]
  },
  {
   "cell_type": "markdown",
   "metadata": {},
   "source": [
    "## Three Dimensions\n",
    "\n",
    "In three dimensions objects appear to have depth. Suppose you are looking at the following rectangle from the black circle:"
   ]
  },
  {
   "cell_type": "markdown",
   "metadata": {},
   "source": [
    "<img src=\"files/3dObjectsRectangle.png\">"
   ]
  },
  {
   "cell_type": "markdown",
   "metadata": {},
   "source": [
    "One can see that a 3 dimensional rectangle has many more unique edges than a 2 dimensional one. To account for these changes humans came up with new terms to help describe these shapes. "
   ]
  },
  {
   "cell_type": "markdown",
   "metadata": {},
   "source": [
    "## Height\n",
    "\n",
    "The **height** of a rectangle helps describe how **tall** some object is. This is the edge that runs vertically from the top of the shape to the bottom. A useful way to remember this is to think heigh**t** is for **t**all."
   ]
  },
  {
   "cell_type": "markdown",
   "metadata": {},
   "source": [
    "<img src=\"files/3dObjectsRectangleHeight.png\">"
   ]
  },
  {
   "cell_type": "markdown",
   "metadata": {},
   "source": [
    "We can also find the height of a 2 dimensional shape:"
   ]
  },
  {
   "cell_type": "markdown",
   "metadata": {},
   "source": [
    "<img src=\"files/2dObjectsRectanglesHeight.png\">"
   ]
  },
  {
   "cell_type": "markdown",
   "metadata": {},
   "source": [
    "## Depth\n",
    "\n",
    "The **depth** of a rectangle is how **deep** an object goes in. This is the edge that goes away from you. A useful way to remember this is to to think **d**epth is for **d**eep. "
   ]
  },
  {
   "cell_type": "markdown",
   "metadata": {},
   "source": [
    "<img src=\"files/3dObjectsRectangleDepth.png\">"
   ]
  },
  {
   "cell_type": "markdown",
   "metadata": {},
   "source": [
    "## Width\n",
    "\n",
    "The **width** of a 3 dimensional rectangle is the edge that's facing you. It's usually the one directly at the bottom of where you're facing."
   ]
  },
  {
   "cell_type": "markdown",
   "metadata": {},
   "source": [
    "<img src=\"files/3dObjectsRectangleWidth.png\">"
   ]
  },
  {
   "cell_type": "markdown",
   "metadata": {},
   "source": [
    "## Thickness\n",
    "\n",
    "The **thickness** of a 3 dimensional shape is how deep some face of the shape runs for. A good way to picture this is to think about the walls of your house. The distance between the inside wall and the outer wall is the thickness of your house. This idea can be applied to all types of boxes and shapes, even lines:"
   ]
  },
  {
   "cell_type": "markdown",
   "metadata": {},
   "source": [
    "<img src=\"files/LineThickness.png\">"
   ]
  },
  {
   "cell_type": "markdown",
   "metadata": {},
   "source": [
    "## Cube\n",
    "\n",
    "As you may have guessed, the process of deciding **height**, **depth**, **thickness**, and **width** is the same for a cube:"
   ]
  },
  {
   "cell_type": "markdown",
   "metadata": {},
   "source": [
    "<img src=\"files/3dObjectsSquare.png\">"
   ]
  },
  {
   "cell_type": "markdown",
   "metadata": {},
   "source": [
    "The only difference here is that the length of every edge is the same."
   ]
  },
  {
   "cell_type": "markdown",
   "metadata": {},
   "source": [
    "### Practice Question 4\n",
    "\n",
    "You view the following **rectangle** from the black circle:"
   ]
  },
  {
   "cell_type": "markdown",
   "metadata": {},
   "source": [
    "<img src=\"files/PracticeQuestion4.png\">"
   ]
  },
  {
   "cell_type": "code",
   "execution_count": 16,
   "metadata": {},
   "outputs": [
    {
     "name": "stdout",
     "output_type": "stream",
     "text": [
      "Which edge is the depth?\n"
     ]
    },
    {
     "data": {
      "application/vnd.jupyter.widget-view+json": {
       "model_id": "dd11ad00e7f44293a1471a70e8eee905",
       "version_major": 2,
       "version_minor": 0
      },
      "text/html": [
       "<p>Failed to display Jupyter Widget of type <code>interactive</code>.</p>\n",
       "<p>\n",
       "  If you're reading this message in the Jupyter Notebook or JupyterLab Notebook, it may mean\n",
       "  that the widgets JavaScript is still loading. If this message persists, it\n",
       "  likely means that the widgets JavaScript library is either not installed or\n",
       "  not enabled. See the <a href=\"https://ipywidgets.readthedocs.io/en/stable/user_install.html\">Jupyter\n",
       "  Widgets Documentation</a> for setup instructions.\n",
       "</p>\n",
       "<p>\n",
       "  If you're reading this message in another frontend (for example, a static\n",
       "  rendering on GitHub or <a href=\"https://nbviewer.jupyter.org/\">NBViewer</a>),\n",
       "  it may mean that your frontend doesn't currently support widgets.\n",
       "</p>\n"
      ],
      "text/plain": [
       "interactive(children=(RadioButtons(description='Answer: ', options=('A', 'B', 'C'), value=None), Output()), _dom_classes=('widget-interact',))"
      ]
     },
     "metadata": {},
     "output_type": "display_data"
    }
   ],
   "source": [
    "from ipywidgets import interact_manual,widgets\n",
    "\n",
    "print(\"Which edge is the depth?\")\n",
    "        \n",
    "@interact(answer =widgets.RadioButtons(\n",
    "                    options=[\"A\", \"B\", \"C\"],\n",
    "                    value=None,\n",
    "                    description=\"Answer: \",\n",
    "                    disabled=False\n",
    "))\n",
    "\n",
    "def reflective_angle_question(answer):\n",
    "    if answer==\"A\":\n",
    "        print(\"Incorrect.\\\n",
    "        \\nRemember, the depth is how long it runs past you.\")\n",
    "        \n",
    "    elif answer ==\"B\":\n",
    "        print(\"Correct!\\\n",
    "        \\nThe depth is the side that runs past you.\")\n",
    "        \n",
    "    elif answer ==\"C\":\n",
    "        print(\"Incorrect.\\\n",
    "        \\nRemember, the depth is how long it runs past you.\")"
   ]
  },
  {
   "cell_type": "code",
   "execution_count": 15,
   "metadata": {},
   "outputs": [
    {
     "name": "stdout",
     "output_type": "stream",
     "text": [
      "Which edge is the height?\n"
     ]
    },
    {
     "data": {
      "application/vnd.jupyter.widget-view+json": {
       "model_id": "904d2dbe8cc8421cb986ec685c300317",
       "version_major": 2,
       "version_minor": 0
      },
      "text/html": [
       "<p>Failed to display Jupyter Widget of type <code>interactive</code>.</p>\n",
       "<p>\n",
       "  If you're reading this message in the Jupyter Notebook or JupyterLab Notebook, it may mean\n",
       "  that the widgets JavaScript is still loading. If this message persists, it\n",
       "  likely means that the widgets JavaScript library is either not installed or\n",
       "  not enabled. See the <a href=\"https://ipywidgets.readthedocs.io/en/stable/user_install.html\">Jupyter\n",
       "  Widgets Documentation</a> for setup instructions.\n",
       "</p>\n",
       "<p>\n",
       "  If you're reading this message in another frontend (for example, a static\n",
       "  rendering on GitHub or <a href=\"https://nbviewer.jupyter.org/\">NBViewer</a>),\n",
       "  it may mean that your frontend doesn't currently support widgets.\n",
       "</p>\n"
      ],
      "text/plain": [
       "interactive(children=(RadioButtons(description='Answer: ', options=('A', 'B', 'C'), value=None), Output()), _dom_classes=('widget-interact',))"
      ]
     },
     "metadata": {},
     "output_type": "display_data"
    }
   ],
   "source": [
    "from ipywidgets import interact_manual,widgets\n",
    "\n",
    "print(\"Which edge is the height?\")\n",
    "        \n",
    "@interact(answer =widgets.RadioButtons(\n",
    "                    options=[\"A\", \"B\", \"C\"],\n",
    "                    value=None,\n",
    "                    description=\"Answer: \",\n",
    "                    disabled=False\n",
    "))\n",
    "\n",
    "def reflective_angle_question(answer):\n",
    "    if answer==\"A\":\n",
    "        print(\"Incorrect.\\\n",
    "        \\nRemember, the height runs vertically.\")\n",
    "        \n",
    "    elif answer ==\"B\":\n",
    "        print(\"Incorrect.\\\n",
    "        \\nRemember, the height runs vertically.\")\n",
    "        \n",
    "    elif answer ==\"C\":\n",
    "        print(\"Correct!\\\n",
    "        \\nThe height is the side that runs from top to bottom.\")"
   ]
  },
  {
   "cell_type": "code",
   "execution_count": 17,
   "metadata": {},
   "outputs": [
    {
     "name": "stdout",
     "output_type": "stream",
     "text": [
      "Which edge is the width?\n"
     ]
    },
    {
     "data": {
      "application/vnd.jupyter.widget-view+json": {
       "model_id": "1d559e1e066b46a480f1f273b6af8e9d",
       "version_major": 2,
       "version_minor": 0
      },
      "text/html": [
       "<p>Failed to display Jupyter Widget of type <code>interactive</code>.</p>\n",
       "<p>\n",
       "  If you're reading this message in the Jupyter Notebook or JupyterLab Notebook, it may mean\n",
       "  that the widgets JavaScript is still loading. If this message persists, it\n",
       "  likely means that the widgets JavaScript library is either not installed or\n",
       "  not enabled. See the <a href=\"https://ipywidgets.readthedocs.io/en/stable/user_install.html\">Jupyter\n",
       "  Widgets Documentation</a> for setup instructions.\n",
       "</p>\n",
       "<p>\n",
       "  If you're reading this message in another frontend (for example, a static\n",
       "  rendering on GitHub or <a href=\"https://nbviewer.jupyter.org/\">NBViewer</a>),\n",
       "  it may mean that your frontend doesn't currently support widgets.\n",
       "</p>\n"
      ],
      "text/plain": [
       "interactive(children=(RadioButtons(description='Answer: ', options=('A', 'B', 'C'), value=None), Output()), _dom_classes=('widget-interact',))"
      ]
     },
     "metadata": {},
     "output_type": "display_data"
    }
   ],
   "source": [
    "from ipywidgets import interact_manual,widgets\n",
    "\n",
    "print(\"Which edge is the width?\")\n",
    "        \n",
    "@interact(answer =widgets.RadioButtons(\n",
    "                    options=[\"A\", \"B\", \"C\"],\n",
    "                    value=None,\n",
    "                    description=\"Answer: \",\n",
    "                    disabled=False\n",
    "))\n",
    "\n",
    "def reflective_angle_question(answer):\n",
    "    if answer==\"A\":\n",
    "        print(\"Correct!\\\n",
    "        \\nThe width is the side that runs closest to you.\")\n",
    "        \n",
    "    elif answer ==\"B\":\n",
    "        print(\"Incorrect.\\\n",
    "        \\nRemember, the width runs closest to the viewer.\")\n",
    "        \n",
    "    elif answer ==\"C\":\n",
    "        print(\"Incorrect.\\\n",
    "        \\nRemember, the width runs closest to the viewer.\")"
   ]
  },
  {
   "cell_type": "code",
   "execution_count": 42,
   "metadata": {},
   "outputs": [
    {
     "data": {
      "text/html": [
       "<h1 align='center'> Exercises </h1>"
      ],
      "text/plain": [
       "<IPython.core.display.HTML object>"
      ]
     },
     "metadata": {},
     "output_type": "display_data"
    }
   ],
   "source": [
    "## Question 1\n",
    "\n",
    "Given the following **circle**:%%html\n",
    "<h1 align='center'> Exercises </h1>"
   ]
  },
  {
   "cell_type": "markdown",
   "metadata": {},
   "source": [
    "## Question 1\n",
    "\n",
    "Given the following **circle**:"
   ]
  },
  {
   "cell_type": "markdown",
   "metadata": {},
   "source": [
    "<img src=\"files/Question1.png\">"
   ]
  },
  {
   "cell_type": "code",
   "execution_count": 20,
   "metadata": {
    "scrolled": true
   },
   "outputs": [
    {
     "name": "stdout",
     "output_type": "stream",
     "text": [
      "What is the radius? (Round to the nearest CENTIMETER)\n"
     ]
    },
    {
     "data": {
      "application/vnd.jupyter.widget-view+json": {
       "model_id": "4fe3da7b1bdf44d7a85c80077da80077",
       "version_major": 2,
       "version_minor": 0
      },
      "text/html": [
       "<p>Failed to display Jupyter Widget of type <code>interactive</code>.</p>\n",
       "<p>\n",
       "  If you're reading this message in the Jupyter Notebook or JupyterLab Notebook, it may mean\n",
       "  that the widgets JavaScript is still loading. If this message persists, it\n",
       "  likely means that the widgets JavaScript library is either not installed or\n",
       "  not enabled. See the <a href=\"https://ipywidgets.readthedocs.io/en/stable/user_install.html\">Jupyter\n",
       "  Widgets Documentation</a> for setup instructions.\n",
       "</p>\n",
       "<p>\n",
       "  If you're reading this message in another frontend (for example, a static\n",
       "  rendering on GitHub or <a href=\"https://nbviewer.jupyter.org/\">NBViewer</a>),\n",
       "  it may mean that your frontend doesn't currently support widgets.\n",
       "</p>\n"
      ],
      "text/plain": [
       "interactive(children=(IntText(value=0, description='Answer: '), Output()), _dom_classes=('widget-interact',))"
      ]
     },
     "metadata": {},
     "output_type": "display_data"
    }
   ],
   "source": [
    "from ipywidgets import interact_manual,widgets\n",
    "\n",
    "print(\"What is the radius? (Round to the nearest CENTIMETER)\")\n",
    "\n",
    "@interact(answer =widgets.IntText(\n",
    "    value=0,\n",
    "    description='Answer: ',\n",
    "    disabled=False\n",
    "))\n",
    "\n",
    "def reflective_angle_question(answer):\n",
    "    if answer == 3:\n",
    "        print(\"Correct!\\\n",
    "        \\nThe radius is 19 ÷ (2 * pi). This equals 3.02394... cm which is rounded to 3 cm.\")\n",
    "    \n",
    "    elif answer == 0:\n",
    "        print(\"Type the radius of the circle.\")\n",
    "        \n",
    "    else:\n",
    "        print(\"Incorrect.\\\n",
    "        \\nRemember, in this question we are given the circumference. \\\n",
    "        \\nTry to find a way to go from circumference to radius.\")"
   ]
  },
  {
   "cell_type": "code",
   "execution_count": 22,
   "metadata": {
    "scrolled": true
   },
   "outputs": [
    {
     "name": "stdout",
     "output_type": "stream",
     "text": [
      "What is the diameter? (Round to the nearest CENTIMETER)\n"
     ]
    },
    {
     "data": {
      "application/vnd.jupyter.widget-view+json": {
       "model_id": "e51aa5c8e6c9443588c00b1091d4594d",
       "version_major": 2,
       "version_minor": 0
      },
      "text/html": [
       "<p>Failed to display Jupyter Widget of type <code>interactive</code>.</p>\n",
       "<p>\n",
       "  If you're reading this message in the Jupyter Notebook or JupyterLab Notebook, it may mean\n",
       "  that the widgets JavaScript is still loading. If this message persists, it\n",
       "  likely means that the widgets JavaScript library is either not installed or\n",
       "  not enabled. See the <a href=\"https://ipywidgets.readthedocs.io/en/stable/user_install.html\">Jupyter\n",
       "  Widgets Documentation</a> for setup instructions.\n",
       "</p>\n",
       "<p>\n",
       "  If you're reading this message in another frontend (for example, a static\n",
       "  rendering on GitHub or <a href=\"https://nbviewer.jupyter.org/\">NBViewer</a>),\n",
       "  it may mean that your frontend doesn't currently support widgets.\n",
       "</p>\n"
      ],
      "text/plain": [
       "interactive(children=(FloatText(value=0.0, description='Answer: '), Output()), _dom_classes=('widget-interact',))"
      ]
     },
     "metadata": {},
     "output_type": "display_data"
    }
   ],
   "source": [
    "from ipywidgets import interact_manual,widgets\n",
    "\n",
    "print(\"What is the diameter? (Round to the nearest CENTIMETER)\")\n",
    "       \n",
    "@interact(answer =widgets.FloatText(\n",
    "    value=0,\n",
    "    description='Answer: ',\n",
    "    disabled=False\n",
    "))\n",
    "\n",
    "def reflective_angle_question(answer):\n",
    "    if answer == 6:\n",
    "        print(\"Correct!\\\n",
    "        \\nThe diameter is twice the radius, which we found to be 3cm in the last question.\")\n",
    "    \n",
    "    elif answer == 0:\n",
    "        print(\"Type the diameter of the circle.\")\n",
    "        \n",
    "    else:\n",
    "        print(\"Incorrect.\\\n",
    "        \\nRemember, in this question we want the nearest meter. \\\n",
    "        \\nTry using the relationship between radius and diameter.\")"
   ]
  },
  {
   "cell_type": "markdown",
   "metadata": {},
   "source": [
    "## Question 2\n",
    "\n",
    "Bob is a farmer who built a perfectly square fence that had a perimeter of 32 meters. Suppose that Bob wanted to build the largest circular fence he could inside the square fence."
   ]
  },
  {
   "cell_type": "code",
   "execution_count": 23,
   "metadata": {
    "scrolled": true
   },
   "outputs": [
    {
     "name": "stdout",
     "output_type": "stream",
     "text": [
      "What is the circumference of the circular fence? (Round to the nearest METER)\n"
     ]
    },
    {
     "data": {
      "application/vnd.jupyter.widget-view+json": {
       "model_id": "e89e1865d8d04324822ab2a415718f47",
       "version_major": 2,
       "version_minor": 0
      },
      "text/html": [
       "<p>Failed to display Jupyter Widget of type <code>interactive</code>.</p>\n",
       "<p>\n",
       "  If you're reading this message in the Jupyter Notebook or JupyterLab Notebook, it may mean\n",
       "  that the widgets JavaScript is still loading. If this message persists, it\n",
       "  likely means that the widgets JavaScript library is either not installed or\n",
       "  not enabled. See the <a href=\"https://ipywidgets.readthedocs.io/en/stable/user_install.html\">Jupyter\n",
       "  Widgets Documentation</a> for setup instructions.\n",
       "</p>\n",
       "<p>\n",
       "  If you're reading this message in another frontend (for example, a static\n",
       "  rendering on GitHub or <a href=\"https://nbviewer.jupyter.org/\">NBViewer</a>),\n",
       "  it may mean that your frontend doesn't currently support widgets.\n",
       "</p>\n"
      ],
      "text/plain": [
       "interactive(children=(IntText(value=0, description='Answer: '), Output()), _dom_classes=('widget-interact',))"
      ]
     },
     "metadata": {},
     "output_type": "display_data"
    }
   ],
   "source": [
    "from ipywidgets import interact_manual,widgets\n",
    "\n",
    "print(\"What is the circumference of the circular fence? (Round to the nearest METER)\")\n",
    "       \n",
    "@interact(answer =widgets.IntText(\n",
    "    value=0,\n",
    "    description='Answer: ',\n",
    "    disabled=False\n",
    "))\n",
    "\n",
    "def reflective_angle_question(answer):\n",
    "    if answer == 25:\n",
    "        print(\"Correct!\\\n",
    "        \\nThe diameter of the new fence would be 32 ÷ 4, which equals 8. \\\n",
    "        \\nThen, the circumference is 8 * pi. This equals 25.13274...m, or 25m.\")\n",
    "    \n",
    "    elif answer == 0:\n",
    "        print(\"Type the circumference of the circle.\")\n",
    "        \n",
    "    else:\n",
    "        print(\"Incorrect.\\\n",
    "        \\nRemember, in this question we are given the perimeter of a square fence. \\\n",
    "        \\nTry finding how long the edge of the square fence is, and then use that as the diameter for the new fence.\")"
   ]
  },
  {
   "cell_type": "code",
   "execution_count": 102,
   "metadata": {},
   "outputs": [
    {
     "data": {
      "text/html": [
       "<h1 align='center'> Summary </h1>"
      ],
      "text/plain": [
       "<IPython.core.display.HTML object>"
      ]
     },
     "metadata": {},
     "output_type": "display_data"
    }
   ],
   "source": [
    "%%html\n",
    "<h1 align='center'> Summary </h1>"
   ]
  },
  {
   "cell_type": "markdown",
   "metadata": {
    "slideshow": {
     "slide_type": "slide"
    }
   },
   "source": [
    "This notebook will hopefully have taught you how to find and use **length**, **width**, **perimeter** and **circumference** on both 3 dimensional and 2 dimensional shapes, as well as how to find **height**, **depth**, and **thickness** on 3 dimensional objects. Next, we take a look at what it means to go between **millimetres** to **kilometres** in the next notebook, [The Metric Units](UnitsGeometry1.ipynb)."
   ]
  },
  {
   "cell_type": "markdown",
   "metadata": {},
   "source": [
    "![alt text](https://github.com/callysto/callysto-sample-notebooks/blob/master/notebooks/images/Callysto_Notebook-Banners_Bottom_06.06.18.jpg?raw=true)"
   ]
  }
 ],
 "metadata": {
  "kernelspec": {
   "display_name": "Python 3",
   "language": "python",
   "name": "python3"
  },
  "language_info": {
   "codemirror_mode": {
    "name": "ipython",
    "version": 3
   },
   "file_extension": ".py",
   "mimetype": "text/x-python",
   "name": "python",
   "nbconvert_exporter": "python",
   "pygments_lexer": "ipython3",
   "version": "3.6.5"
  }
 },
 "nbformat": 4,
 "nbformat_minor": 2
}
